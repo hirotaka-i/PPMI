{
 "cells": [
  {
   "cell_type": "markdown",
   "metadata": {},
   "source": [
    "# UPDRS\n",
    "\n",
    "Create long UPDRS (1/2/3OFF/4) records     \n",
    "SDR and LDR recoreds    \n",
    "\n",
    "New variables;\n",
    "* DRT_ON: DRT (Levodopa and Doapmin) usage and ON/OFF status. NonUser, ON, OFF, Unknown.\n",
    "* Vord: Visit order. (SC = -1, BL = 0, V01=1, V02=2, ...). Only available for the planned visits\n",
    "* PDMED: Originally 'PD_MED_USE': 0=No, 1=Lv, 2=Ag, 3=Oth, 4=1+3, 5=1+2, 6=2+3, 7=1+2+3\n",
    "* MEDTIME: Hours from the last medication time)\n",
    "\n",
    "Output files;\n",
    "1. UPDRS3_SDR.csv: UPDRS3. Paired for ON and OFF observations measured in the same day.\n",
    "2. UPDRS.csv: All UPDRS in long format. \n",
    "    UPDRS3 repeatedly measured at some visits. UPDRS1,2,4 should have the same value for those obs.\n",
    "    UDPRS3 with DRT_ON==Unknown for visits \"V04\", \"V06\", \"V08\", \"V10\", \"V12\", \"V13\", \"V14\", \"V15\" were excluded.\n",
    "3. UPDRS_4NAreplaced.csv : \n",
    "    UPDRS4 values are replaced with 0 if not DRT started and NA in UPDRS4 items.\n",
    "4. UPDRSmax.csv: The maximum value up to the visit for each items."
   ]
  },
  {
   "cell_type": "code",
   "execution_count": 2,
   "metadata": {},
   "outputs": [
    {
     "name": "stderr",
     "output_type": "stream",
     "text": [
      "\n",
      "Attaching package: 'dplyr'\n",
      "\n",
      "The following objects are masked from 'package:data.table':\n",
      "\n",
      "    between, first, last\n",
      "\n",
      "The following objects are masked from 'package:stats':\n",
      "\n",
      "    filter, lag\n",
      "\n",
      "The following objects are masked from 'package:base':\n",
      "\n",
      "    intersect, setdiff, setequal, union\n",
      "\n",
      "\n",
      "Attaching package: 'zoo'\n",
      "\n",
      "The following objects are masked from 'package:base':\n",
      "\n",
      "    as.Date, as.Date.numeric\n",
      "\n",
      "Loading required package: gridExtra\n",
      "\n",
      "Attaching package: 'gridExtra'\n",
      "\n",
      "The following object is masked from 'package:dplyr':\n",
      "\n",
      "    combine\n",
      "\n"
     ]
    }
   ],
   "source": [
    "library(data.table)\n",
    "library(dplyr);library(tidyr)\n",
    "library(zoo)\n",
    "library(ggplot2);require(gridExtra)\n",
    "FOLDER = c(\"PPMI180910\")\n",
    "OUTPUT = c(\"out180910\")\n",
    "options(\"width\"=130)"
   ]
  },
  {
   "cell_type": "code",
   "execution_count": 3,
   "metadata": {},
   "outputs": [],
   "source": [
    "ref = fread(paste(OUTPUT, \"PATNO_EVENTID_DATE.csv\", sep=\"/\"),colClasses = c(\"PATNO\"=\"character\"))\n",
    "dx = fread(paste(OUTPUT, \"DEMOG_DIAG.csv\", sep=\"/\"), colClasses = c(\"PATNO\"=\"character\")) %>% select(PATNO, DIAG)\n",
    "dxPD = dx %>% filter(grepl(\"iPD_stable_YsImg_\", DIAG)) %>% distinct(PATNO)\n",
    "dxPD_PPMI = dx %>% filter(grepl(\"iPD_stable_YsImg_PPMI\", DIAG)) %>% distinct(PATNO)\n",
    "med = fread(\"out180910/MED_INIT.csv\",  colClasses = c(\"PATNO\"=\"character\"))\n",
    "init=fread(paste(OUTPUT, \"MED_INIT.csv\", sep =\"/\"), colClasses = c(\"PATNO\"=\"character\"))\n",
    "Visits = c(\"SC\", \"BL\", sprintf(\"%s%02d\", \"V\", 1:20)) # Give values for ordinary visits\n",
    "se <- function(x){sqrt(var(x)/length(x))}\n",
    "\n",
    "read_func <- function(file, string){\n",
    "  data = fread(paste(FOLDER, file, sep='/'), header = T, quote=\"\\\"\", colClasses = c(\"PATNO\"=\"character\")) %>%\n",
    "    na_if(\"\") %>%\n",
    "    mutate_at(vars(starts_with(string)), funs(as.numeric)) %>% \n",
    "    select(PATNO, EVENT_ID, grep(string, colnames(.))) %>%\n",
    "    left_join(., ref, by=c(\"PATNO\", \"EVENT_ID\")) %>% \n",
    "    filter(!is.na(PATNO))\n",
    "}\n",
    "\n",
    "read_func2 <- function(file, vecs_str){\n",
    "  data = fread(paste(FOLDER, file, sep='/'), header = T, quote=\"\\\"\", colClasses = c(\"PATNO\"=\"character\")) %>%\n",
    "    na_if(\"\") %>%\n",
    "    mutate_at(vars(vecs_str), funs(as.numeric)) %>% \n",
    "    select(PATNO, EVENT_ID, vecs_str) %>%\n",
    "    left_join(., ref, by=c(\"PATNO\", \"EVENT_ID\")) %>% \n",
    "    filter(!is.na(PATNO))\n",
    "}\n",
    "\n",
    "read_func3 <- function(file, string){\n",
    "  data = fread(paste(FOLDER, file, sep='/'), header = T, quote=\"\\\"\", colClasses = c(\"PATNO\"=\"character\")) %>%\n",
    "    na_if(\"\") %>%\n",
    "    mutate_at(vars(starts_with(string)), funs(as.numeric)) %>% \n",
    "    mutate(MEDTIME = as.numeric(ANNUAL_TIME_BTW_DOSE_NUPDRS),\n",
    "           ON = if_else(ON_OFF_DOSE==2, 1, 0),\n",
    "           HY = as.numeric(NHY),\n",
    "           PDMED = PD_MED_USE) %>%\n",
    "    select(PATNO, EVENT_ID, grep(string, colnames(.)), HY, MEDTIME,ON, PDMED) %>%\n",
    "    left_join(., ref, by=c(\"PATNO\", \"EVENT_ID\")) %>% \n",
    "    filter(!is.na(PATNO))\n",
    "}"
   ]
  },
  {
   "cell_type": "code",
   "execution_count": 4,
   "metadata": {
    "scrolled": false
   },
   "outputs": [
    {
     "name": "stdout",
     "output_type": "stream",
     "text": [
      "check duplicated obs in the same day for UPDRS part I (dup>1)"
     ]
    },
    {
     "data": {
      "text/plain": [
       "dup\n",
       "    1 \n",
       "11348 "
      ]
     },
     "metadata": {},
     "output_type": "display_data"
    },
    {
     "name": "stdout",
     "output_type": "stream",
     "text": [
      "Check duplicated obs in the same event-id for UPDRS part I-quationnaire (dup>1)"
     ]
    },
    {
     "data": {
      "text/plain": [
       "dup\n",
       "    1 \n",
       "11347 "
      ]
     },
     "metadata": {},
     "output_type": "display_data"
    },
    {
     "name": "stdout",
     "output_type": "stream",
     "text": [
      "check duplicated obs in the same event-id for UPDRS part II (dup>1)"
     ]
    },
    {
     "data": {
      "text/plain": [
       "dup\n",
       "    1 \n",
       "11347 "
      ]
     },
     "metadata": {},
     "output_type": "display_data"
    },
    {
     "name": "stdout",
     "output_type": "stream",
     "text": [
      "check duplicated obs in the same event-id for UPDRS part IV (dup>1)"
     ]
    },
    {
     "data": {
      "text/plain": [
       "dup\n",
       "   1 \n",
       "4582 "
      ]
     },
     "metadata": {},
     "output_type": "display_data"
    },
    {
     "name": "stdout",
     "output_type": "stream",
     "text": [
      "check duplicated obs in the same event-id for UPDRS part III (dup>1)"
     ]
    },
    {
     "data": {
      "text/plain": [
       "dup\n",
       "   1    2 \n",
       "9858 2974 "
      ]
     },
     "metadata": {},
     "output_type": "display_data"
    },
    {
     "data": {
      "text/plain": [
       "        dup\n",
       "EVENT_ID    1    2\n",
       "     BL  1664  294\n",
       "     PW     8    4\n",
       "     RS1    4    0\n",
       "     SC  1098    0\n",
       "     ST   205    0\n",
       "     U01    3    0\n",
       "     V01  507    0\n",
       "     V02  887    4\n",
       "     V03  452    4\n",
       "     V04  834  466\n",
       "     V05  789   22\n",
       "     V06  785  504\n",
       "     V07  585    4\n",
       "     V08  482  468\n",
       "     V09  488    4\n",
       "     V10  355  486\n",
       "     V11  326    2\n",
       "     V12  271  396\n",
       "     V13   58  226\n",
       "     V14   56   88\n",
       "     V15    1    2"
      ]
     },
     "metadata": {},
     "output_type": "display_data"
    },
    {
     "name": "stdout",
     "output_type": "stream",
     "text": [
      "UPDRS3 has duplicated observations at the same visits,\n",
      "(BL(GENPD), 4,6,8,10,12,13,14,15: If the participant was taking DRT, UPDRS3 was measured 1 hour after medication)\n",
      "For duplicated observations, (dup==2), On/Off label (ON==1/0) is available at the most of the time (Below)"
     ]
    },
    {
     "data": {
      "text/plain": [
       "        ON\n",
       "EVENT_ID   0   1 <NA>\n",
       "    BL   121 165    8\n",
       "    PW     0   0    4\n",
       "    V02    1   2    1\n",
       "    V03    2   2    0\n",
       "    V04  207 254    5\n",
       "    V05    8  10    4\n",
       "    V06  220 270   14\n",
       "    V07    1   1    2\n",
       "    V08  216 243    9\n",
       "    V09    1   1    2\n",
       "    V10  225 248   13\n",
       "    V11    0   0    2\n",
       "    V12  194 197    5\n",
       "    V13  108 115    3\n",
       "    V14   38  48    2\n",
       "    V15    1   1    0\n",
       "    <NA>   0   0    0"
      ]
     },
     "metadata": {},
     "output_type": "display_data"
    }
   ],
   "source": [
    "# UPDRS\n",
    "temp1 = read_func('MDS_UPDRS_Part_I.csv', 'NP1')\n",
    "cat(\"check duplicated obs in the same day for UPDRS part I (dup>1)\")\n",
    "temp1 %>% group_by(PATNO, EVENT_ID) %>% mutate(dup=n()) %>% with(table(dup))\n",
    "temp2 = read_func('MDS_UPDRS_Part_I__Patient_Questionnaire.csv', 'NP1')\n",
    "cat(\"Check duplicated obs in the same event-id for UPDRS part I-quationnaire (dup>1)\")\n",
    "temp2 %>% group_by(PATNO, EVENT_ID) %>% mutate(dup=n()) %>% with(table(dup))\n",
    "temp3 = read_func('MDS_UPDRS_Part_II__Patient_Questionnaire.csv', 'NP2')\n",
    "cat(\"check duplicated obs in the same event-id for UPDRS part II (dup>1)\")\n",
    "temp3 %>% group_by(PATNO, EVENT_ID) %>% mutate(dup=n()) %>% with(table(dup))\n",
    "temp5 = read_func('MDS_UPDRS_Part_IV.csv', 'NP4')\n",
    "cat(\"check duplicated obs in the same event-id for UPDRS part IV (dup>1)\")\n",
    "temp5 %>% group_by(PATNO, EVENT_ID) %>% mutate(dup=n()) %>% with(table(dup))\n",
    "temp4 = read_func3('MDS_UPDRS_Part_III.csv', 'NP3') # \"NP3RIGRL\"\n",
    "cat(\"check duplicated obs in the same event-id for UPDRS part III (dup>1)\")\n",
    "temp4 %>% group_by(PATNO, EVENT_ID) %>% mutate(dup=n()) %>% with(table(dup))\n",
    "temp4 %>% group_by(PATNO, EVENT_ID) %>% mutate(dup=n()) %>% with(table(EVENT_ID, dup))\n",
    "cat(\"UPDRS3 has duplicated observations at the same visits,\n",
    "(BL(GENPD), 4,6,8,10,12,13,14,15: If the participant was taking DRT, UPDRS3 was measured 1 hour after medication)\n",
    "For duplicated observations, (dup==2), On/Off label (ON==1/0) is available at the most of the time (Below)\")\n",
    "temp4_dup = temp4 %>% group_by(PATNO, EVENT_ID) %>% mutate(dup=n()) %>% \n",
    "    filter(dup>1) \n",
    "temp4_dup %>% with(table(EVENT_ID, ON, useNA = 'always'))"
   ]
  },
  {
   "cell_type": "code",
   "execution_count": 6,
   "metadata": {},
   "outputs": [
    {
     "name": "stdout",
     "output_type": "stream",
     "text": [
      "From the following step, we crete DRT_ON labels for UPDRS3.\n",
      "PDMED (Medication at the measurement) label for the duplicated observations"
     ]
    },
    {
     "data": {
      "text/plain": [
       "      ON\n",
       "PDMED    0   1 <NA>\n",
       "  0      1   0   12\n",
       "  1    525 595   20\n",
       "  2     95 107    4\n",
       "  3      8  18   19\n",
       "  4    247 270    5\n",
       "  5    164 196    4\n",
       "  6    108 123    1\n",
       "  7    195 248    9\n",
       "  <NA>   0   0    0"
      ]
     },
     "metadata": {},
     "output_type": "display_data"
    },
    {
     "name": "stdout",
     "output_type": "stream",
     "text": [
      "PDMED is originally 'PD_MED_USE': 0=No, 1=Lv, 2=Ag, 3=Oth, 4=1+3, 5=1+2, 6=2+3, 7=1+2+3\n",
      "If PDMED == 0 (no anti-PD medication) or 3 (Other than levodopa or DA), DRT_ON will be labeled as 'NonUser'.\n",
      "Other ON==NA obs will be excluded."
     ]
    },
    {
     "data": {
      "text/plain": [
       "      DRT_ON\n",
       "PDMED  NonUser OFF  ON <NA>\n",
       "  0         13   0   0    0\n",
       "  1          0 525 595    0\n",
       "  2          0  95 107    0\n",
       "  3         45   0   0    0\n",
       "  4          0 247 270    0\n",
       "  5          0 164 196    0\n",
       "  6          0 108 123    0\n",
       "  7          0 195 248    0\n",
       "  <NA>       0   0   0    0"
      ]
     },
     "metadata": {},
     "output_type": "display_data"
    },
    {
     "name": "stdout",
     "output_type": "stream",
     "text": [
      "ON/OFF per event_ID for duplicated observations (filtered)"
     ]
    },
    {
     "data": {
      "text/plain": [
       "        DRT_ON\n",
       "EVENT_ID NonUser OFF  ON <NA>\n",
       "    BL         6 120 163    0\n",
       "    V02        0   1   2    0\n",
       "    V03        0   2   2    0\n",
       "    V04       14 204 247    0\n",
       "    V05        0   8  10    0\n",
       "    V06       18 217 264    0\n",
       "    V07        2   0   1    0\n",
       "    V08        8 215 240    0\n",
       "    V09        0   1   1    0\n",
       "    V10        6 225 248    0\n",
       "    V12        2 194 197    0\n",
       "    V13        0 108 115    0\n",
       "    V14        2  38  48    0\n",
       "    V15        0   1   1    0\n",
       "    <NA>       0   0   0    0"
      ]
     },
     "metadata": {},
     "output_type": "display_data"
    }
   ],
   "source": [
    "cat(\"From the following step, we crete DRT_ON labels for UPDRS3.\n",
    "PDMED (Medication at the measurement) label for the duplicated observations\")\n",
    "temp4_dup %>% with(table(PDMED, ON, useNA = 'always'))\n",
    "cat(\"PDMED is originally 'PD_MED_USE': 0=No, 1=Lv, 2=Ag, 3=Oth, 4=1+3, 5=1+2, 6=2+3, 7=1+2+3\n",
    "If PDMED == 0 (no anti-PD medication) or 3 (Other than levodopa or DA), DRT_ON will be labeled as 'NonUser'.\n",
    "Other ON==NA obs will be excluded.\")\n",
    "temp4_dup_filtered = temp4_dup %>%\n",
    "    mutate(DRT_ON=ifelse(ON==1, \"ON\", \"OFF\")) %>%\n",
    "    mutate(DRT_ON = ifelse( PDMED %in% c(0,3), \"NonUser\", DRT_ON)) %>%\n",
    "    filter(!( is.na(DRT_ON) ))\n",
    "temp4_dup_filtered %>% with(table(PDMED, DRT_ON, useNA = 'always'))\n",
    "cat(\"ON/OFF per event_ID for duplicated observations (filtered)\")\n",
    "temp4_dup_filtered %>% with(table(EVENT_ID, DRT_ON, useNA = 'always'))"
   ]
  },
  {
   "cell_type": "code",
   "execution_count": 7,
   "metadata": {
    "scrolled": false
   },
   "outputs": [
    {
     "name": "stdout",
     "output_type": "stream",
     "text": [
      "Looking at the table above, the number of ON and OFF are different for duplicated observations\n",
      "Some people had both obs with ON==1 or ON==0 in the same event rather than having obs with ON==1 and ON==0.\n",
      "Table of duplicated observations for (PATNO, EVENT_ID, and ON/OFF status) per visit"
     ]
    },
    {
     "data": {
      "text/plain": [
       "        DRT_ON\n",
       "EVENT_ID NonUser OFF ON <NA>\n",
       "    BL         6   0 44    0\n",
       "    V04       14   2 44    0\n",
       "    V06       18   2 48    0\n",
       "    V07        2   0  0    0\n",
       "    V08        8   4 24    0\n",
       "    V10        6   0 22    0\n",
       "    V12        2   0  4    0\n",
       "    V13        0   0  4    0\n",
       "    V14        2   0 10    0\n",
       "    <NA>       0   0  0    0"
      ]
     },
     "metadata": {},
     "output_type": "display_data"
    },
    {
     "name": "stdout",
     "output_type": "stream",
     "text": [
      "This is OK for longitudinal analyses. For the analysis of short drug responses of LD, \n",
      "we will extract paired observations with ON==1 and OFF=0 at the same visit from those using levodopa.\n",
      "Note: \n",
      "For the first filteration, we excluded ON==NA observations and recoded some of them, \n",
      "so some observations are not paired any more. exclude these orphan observations too."
     ]
    },
    {
     "data": {
      "text/plain": [
       "        DRT_ON\n",
       "EVENT_ID OFF  ON <NA>\n",
       "    BL   102 102    0\n",
       "    V02    1   1    0\n",
       "    V04  148 148    0\n",
       "    V05    4   4    0\n",
       "    V06  168 168    0\n",
       "    V08  183 183    0\n",
       "    V09    1   1    0\n",
       "    V10  201 201    0\n",
       "    V12  176 176    0\n",
       "    V13  103 103    0\n",
       "    V14   36  36    0\n",
       "    V15    1   1    0\n",
       "    <NA>   0   0    0"
      ]
     },
     "metadata": {},
     "output_type": "display_data"
    },
    {
     "name": "stdout",
     "output_type": "stream",
     "text": [
      "Save this file for SDR analysis.\n",
      "Look at the relationship between ON/OFF dichotomization and MEDTIME for this SDR file.\n",
      "NOTE:MEDTIME (hours from the last medication time)"
     ]
    },
    {
     "data": {
      "text/plain": [
       "              DRT_ON\n",
       "PDMED_Interval  OFF   ON <NA>\n",
       "     < 6 hour     0 1124    0\n",
       "     >= 6 hour 1124    0    0\n",
       "     <NA>         0    0    0"
      ]
     },
     "metadata": {},
     "output_type": "display_data"
    },
    {
     "name": "stdout",
     "output_type": "stream",
     "text": [
      "ON/OFF and MEDTIME summary"
     ]
    },
    {
     "data": {
      "text/html": [
       "<table>\n",
       "<thead><tr><th scope=col>DRT_ON</th><th scope=col>min</th><th scope=col>mean</th><th scope=col>median</th><th scope=col>max</th></tr></thead>\n",
       "<tbody>\n",
       "\t<tr><td>OFF      </td><td>6        </td><td>14.588113</td><td>13.8333  </td><td>99.0000  </td></tr>\n",
       "\t<tr><td>ON       </td><td>0        </td><td> 1.473766</td><td> 1.2000  </td><td> 5.6667  </td></tr>\n",
       "</tbody>\n",
       "</table>\n"
      ],
      "text/latex": [
       "\\begin{tabular}{r|lllll}\n",
       " DRT\\_ON & min & mean & median & max\\\\\n",
       "\\hline\n",
       "\t OFF       & 6         & 14.588113 & 13.8333   & 99.0000  \\\\\n",
       "\t ON        & 0         &  1.473766 &  1.2000   &  5.6667  \\\\\n",
       "\\end{tabular}\n"
      ],
      "text/markdown": [
       "\n",
       "DRT_ON | min | mean | median | max | \n",
       "|---|---|\n",
       "| OFF       | 6         | 14.588113 | 13.8333   | 99.0000   | \n",
       "| ON        | 0         |  1.473766 |  1.2000   |  5.6667   | \n",
       "\n",
       "\n"
      ],
      "text/plain": [
       "  DRT_ON min mean      median  max    \n",
       "1 OFF    6   14.588113 13.8333 99.0000\n",
       "2 ON     0    1.473766  1.2000  5.6667"
      ]
     },
     "metadata": {},
     "output_type": "display_data"
    },
    {
     "name": "stdout",
     "output_type": "stream",
     "text": [
      "MEDTIME<6 can perfectly separat ON/OFF."
     ]
    },
    {
     "data": {},
     "metadata": {},
     "output_type": "display_data"
    },
    {
     "data": {
      "image/png": "[encoded data removed]",
      "text/plain": [
       "plot without title"
      ]
     },
     "metadata": {},
     "output_type": "display_data"
    }
   ],
   "source": [
    "cat(\"Looking at the table above, the number of ON and OFF are different for duplicated observations\n",
    "Some people had both obs with ON==1 or ON==0 in the same event rather than having obs with ON==1 and ON==0.\n",
    "Table of duplicated observations for (PATNO, EVENT_ID, and ON/OFF status) per visit\")\n",
    "temp4_dup_filtered %>% group_by(PATNO, EVENT_ID, DRT_ON) %>% mutate(dup=n()) %>% \n",
    "    filter(dup>1) %>% with(table(EVENT_ID, DRT_ON, useNA = 'always'))\n",
    "cat(\"This is OK for longitudinal analyses. For the analysis of short drug responses of LD, \n",
    "we will extract paired observations with ON==1 and OFF=0 at the same visit from those using levodopa.\n",
    "Note: \n",
    "For the first filteration, we excluded ON==NA observations and recoded some of them, \n",
    "so some observations are not paired any more. exclude these orphan observations too.\")\n",
    "temp4_dup_SDR = temp4_dup_filtered %>% filter(PDMED %in% c(1,4,5,7)) %>%\n",
    "    group_by(PATNO, EVENT_ID) %>% mutate(dup=n()) %>% filter(dup>1) %>% ungroup %>%\n",
    "    group_by(PATNO, EVENT_ID, DRT_ON) %>% mutate(dup=n()) %>% filter(dup==1) %>% ungroup\n",
    "temp4_dup_SDR %>% with(table(EVENT_ID, DRT_ON, useNA = 'always'))\n",
    "cat(\"Save this file for SDR analysis.\\n\")\n",
    "temp4_dup_SDR %>% write.csv(. , paste(OUTPUT, \"UPDRS3_SDR.csv\", sep=\"/\"))\n",
    "cat(\"Look at the relationship between ON/OFF dichotomization and MEDTIME for this SDR file.\n",
    "NOTE:MEDTIME (hours from the last medication time)\")\n",
    "temp4_dup_SDR %>% group_by(PATNO, EVENT_ID) %>% mutate(dup=n()) %>% \n",
    "    filter(dup>1) %>% mutate(PDMED_Interval=ifelse(MEDTIME<6, '< 6 hour', \">= 6 hour\")) %>% \n",
    "    with(table(PDMED_Interval, DRT_ON, useNA = 'always'))\n",
    "cat(\"ON/OFF and MEDTIME summary\")\n",
    "temp4_dup_SDR %>% group_by(PATNO, EVENT_ID) %>% mutate(dup=n()) %>% \n",
    "    filter(dup>1) %>% ungroup %>% group_by(DRT_ON) %>% summarise_at(vars(\"MEDTIME\"), funs(min, mean, median, max))\n",
    "cat(\"MEDTIME<6 can perfectly separat ON/OFF.\")\n",
    "temp4_dup_SDR %>% \n",
    "  mutate(CAT = DRT_ON) %>% \n",
    "  mutate(Vord = as.numeric(factor(EVENT_ID, levels=Visits))-2) %>%\n",
    "  data.frame %>% filter( Vord %%1==0 | Vord==-1) %>% \n",
    "  mutate(TOTAL = rowSums(.[,grep(\"NP\", names(.))])) %>% filter(!is.na(TOTAL)) %>%\n",
    "  group_by(CAT, Vord) %>% summarise_at(vars(\"TOTAL\"), funs(mean=median, se, n())) %>% filter(n>10) %>% \n",
    "  ungroup %>% arrange(CAT, Vord)   %>% filter(complete.cases(.)) %>%\n",
    "  mutate(DRT_ON = CAT) %>%\n",
    "  ggplot + aes(Vord, mean, colour=DRT_ON) +\n",
    "  geom_line(aes(group=CAT)) + geom_point() + \n",
    "  geom_errorbar(aes(ymin=mean-se, ymax=mean+se), width=.2) + \n",
    "  scale_x_continuous(breaks = seq(0, 16, by = 4)) + \n",
    "  scale_y_continuous(breaks = seq(15, 46, by = 10)) + \n",
    "  ylab(\"Total\") + xlab(\"Visit (0 == Baseline)\")"
   ]
  },
  {
   "cell_type": "code",
   "execution_count": 8,
   "metadata": {},
   "outputs": [
    {
     "name": "stdout",
     "output_type": "stream",
     "text": [
      "Analyze non-duplicated observations"
     ]
    },
    {
     "data": {
      "text/plain": [
       "      ON\n",
       "PDMED     0    1 <NA>\n",
       "  0       0    0 6753\n",
       "  1      42  277  643\n",
       "  2      36  114  236\n",
       "  3       1    5  520\n",
       "  4      12  124  275\n",
       "  5      16   75  199\n",
       "  6      17   51  158\n",
       "  7      11   94  199\n",
       "  <NA>    0    0    0"
      ]
     },
     "metadata": {},
     "output_type": "display_data"
    },
    {
     "data": {
      "text/plain": [
       "        ON\n",
       "EVENT_ID    0    1 <NA>\n",
       "    BL     29  162 1473\n",
       "    PW      0    0    8\n",
       "    RS1     0    0    4\n",
       "    SC      0    0 1098\n",
       "    ST      0    0  205\n",
       "    U01     0    0    3\n",
       "    V01     0    0  507\n",
       "    V02     0    0  887\n",
       "    V03     0    0  452\n",
       "    V04    13   93  728\n",
       "    V05     0    1  788\n",
       "    V06    33  148  604\n",
       "    V07     0    0  585\n",
       "    V08    25  125  332\n",
       "    V09     0    0  488\n",
       "    V10    14   85  256\n",
       "    V11     0    0  326\n",
       "    V12    14   79  178\n",
       "    V13     5   40   13\n",
       "    V14     2    7   47\n",
       "    V15     0    0    1\n",
       "    <NA>    0    0    0"
      ]
     },
     "metadata": {},
     "output_type": "display_data"
    },
    {
     "name": "stdout",
     "output_type": "stream",
     "text": [
      "If PDMED==0, or 3, DRT_ON as 'NonUser' regardless of ON values.\n",
      "The NA in ON values will be coded as DRT_ON=='Unknown' otherwise.\n",
      "They are taking Levodopa and/or DA but the status is unknown."
     ]
    },
    {
     "data": {
      "text/plain": [
       "      DRT_ON\n",
       "PDMED  NonUser  OFF   ON Unknown <NA>\n",
       "  0       6753    0    0       0    0\n",
       "  1          0   42  277     643    0\n",
       "  2          0   36  114     236    0\n",
       "  3        526    0    0       0    0\n",
       "  4          0   12  124     275    0\n",
       "  5          0   16   75     199    0\n",
       "  6          0   17   51     158    0\n",
       "  7          0   11   94     199    0\n",
       "  <NA>       0    0    0       0    0"
      ]
     },
     "metadata": {},
     "output_type": "display_data"
    },
    {
     "data": {
      "text/plain": [
       "        DRT_ON\n",
       "EVENT_ID NonUser  OFF   ON Unknown <NA>\n",
       "    BL      1472   28  158       6    0\n",
       "    PW         6    0    0       2    0\n",
       "    RS1        4    0    0       0    0\n",
       "    SC      1096    0    0       2    0\n",
       "    ST       205    0    0       0    0\n",
       "    U01        3    0    0       0    0\n",
       "    V01      499    0    0       8    0\n",
       "    V02      696    0    0     191    0\n",
       "    V03      327    0    0     125    0\n",
       "    V04      727   13   93       1    0\n",
       "    V05      439    0    1     349    0\n",
       "    V06      604   33  147       1    0\n",
       "    V07      210    0    0     375    0\n",
       "    V08      332   25  125       0    0\n",
       "    V09      131    0    0     357    0\n",
       "    V10      249   14   85       7    0\n",
       "    V11       41    0    0     285    0\n",
       "    V12      178   14   79       0    0\n",
       "    V13       12    5   40       1    0\n",
       "    V14       47    2    7       0    0\n",
       "    V15        1    0    0       0    0\n",
       "    <NA>       0    0    0       0    0"
      ]
     },
     "metadata": {},
     "output_type": "display_data"
    },
    {
     "data": {
      "text/plain": [
       "              ON\n",
       "PDMED_Interval    0    1 <NA>\n",
       "     < 6 hour     0  739    0\n",
       "     >= 6 hour  131    1    0\n",
       "     <NA>         4    0 8983"
      ]
     },
     "metadata": {},
     "output_type": "display_data"
    },
    {
     "name": "stdout",
     "output_type": "stream",
     "text": [
      "ON ==NA obs also don't have MEDTIME information. So we cannot label ON/OFF status based on MEDTIME"
     ]
    }
   ],
   "source": [
    "cat(\"Analyze non-duplicated observations\")\n",
    "temp4_noDup = anti_join(temp4, temp4_dup, by=c(\"PATNO\", \"EVENT_ID\"))\n",
    "temp4_noDup %>% with(table(PDMED, ON, useNA = 'always'))\n",
    "temp4_noDup %>% with(table(EVENT_ID, ON, useNA = 'always'))\n",
    "cat(\"If PDMED==0, or 3, DRT_ON as 'NonUser' regardless of ON values.\n",
    "The NA in ON values will be coded as DRT_ON=='Unknown' otherwise.\n",
    "They are taking Levodopa and/or DA but the status is unknown.\")\n",
    "temp4_noDup_recoded = temp4_noDup %>% \n",
    "    mutate(DRT_ON=ifelse(ON==1, \"ON\", \"OFF\")) %>%\n",
    "    mutate(DRT_ON=ifelse((PDMED %in% c(0,3)), 'NonUser', DRT_ON)) %>%\n",
    "    mutate(DRT_ON=ifelse(is.na(DRT_ON), 'Unknown', DRT_ON))\n",
    "temp4_noDup_recoded %>% with(table(PDMED, DRT_ON, useNA = 'always'))\n",
    "temp4_noDup_recoded %>% with(table(EVENT_ID, DRT_ON, useNA = 'always'))\n",
    "temp4_noDup_recoded %>% mutate(PDMED_Interval=ifelse(MEDTIME<6, '< 6 hour', \">= 6 hour\")) %>% \n",
    "    with(table(PDMED_Interval, ON, useNA = 'always'))\n",
    "cat(\"ON ==NA obs also don't have MEDTIME information. So we cannot label ON/OFF status based on MEDTIME\")"
   ]
  },
  {
   "cell_type": "code",
   "execution_count": 9,
   "metadata": {
    "scrolled": false
   },
   "outputs": [
    {
     "name": "stdout",
     "output_type": "stream",
     "text": [
      "Combine duplicated observations (After ON=NA is filtered) and non-duplicated observations"
     ]
    },
    {
     "data": {
      "text/plain": [
       "         ON\n",
       "DRT_ON       0    1 <NA>\n",
       "  NonUser   10   23 7304\n",
       "  OFF     1468    0    0\n",
       "  ON         0 2274    0\n",
       "  Unknown    0    0 1710\n",
       "  <NA>       0    0    0"
      ]
     },
     "metadata": {},
     "output_type": "display_data"
    },
    {
     "data": {
      "text/plain": [
       "        DRT_ON\n",
       "EVENT_ID NonUser  OFF   ON Unknown <NA>\n",
       "    BL      1478  148  321       6    0\n",
       "    PW         6    0    0       2    0\n",
       "    RS1        4    0    0       0    0\n",
       "    SC      1096    0    0       2    0\n",
       "    ST       205    0    0       0    0\n",
       "    U01        3    0    0       0    0\n",
       "    V01      499    0    0       8    0\n",
       "    V02      696    1    2     191    0\n",
       "    V03      327    2    2     125    0\n",
       "    V04      741  217  340       1    0\n",
       "    V05      439    8   11     349    0\n",
       "    V06      622  250  411       1    0\n",
       "    V07      212    0    1     375    0\n",
       "    V08      340  240  365       0    0\n",
       "    V09      131    1    1     357    0\n",
       "    V10      255  239  333       7    0\n",
       "    V11       41    0    0     285    0\n",
       "    V12      180  208  276       0    0\n",
       "    V13       12  113  155       1    0\n",
       "    V14       49   40   55       0    0\n",
       "    V15        1    1    1       0    0\n",
       "    <NA>       0    0    0       0    0"
      ]
     },
     "metadata": {},
     "output_type": "display_data"
    },
    {
     "name": "stdout",
     "output_type": "stream",
     "text": [
      "So on visits 4,6,8,10,12-15, most of the visits are now labeled. \n",
      "DRT_ON == 'Unknown' will be excluded for these visits. \n",
      "For other visit, DRT_ON/OFF status is not defined for many cases\n",
      "\n",
      "Obs from PPMI PD cohorts"
     ]
    },
    {
     "data": {
      "text/plain": [
       "        DRT_ON\n",
       "EVENT_ID NonUser OFF  ON Unknown <NA>\n",
       "    BL       418   0   0       0    0\n",
       "    PW         2   0   0       1    0\n",
       "    SC       441   0   0       0    0\n",
       "    ST       194   0   0       0    0\n",
       "    U01        2   0   0       0    0\n",
       "    V01      374   0   0       5    0\n",
       "    V02      259   0   0      18    0\n",
       "    V03      214   1   1     113    0\n",
       "    V04      203 102 155       0    0\n",
       "    V05      150   6   8     203    0\n",
       "    V06      115 157 234       0    0\n",
       "    V07       85   0   1     271    0\n",
       "    V08       68 182 271       0    0\n",
       "    V09       51   1   1     291    0\n",
       "    V10       39 206 288       0    0\n",
       "    V11       33   0   0     274    0\n",
       "    V12       25 203 267       0    0\n",
       "    V13        8 111 153       0    0\n",
       "    V14        6  40  55       0    0\n",
       "    V15        0   1   1       0    0\n",
       "    <NA>       0   0   0       0    0"
      ]
     },
     "metadata": {},
     "output_type": "display_data"
    },
    {
     "data": {},
     "metadata": {},
     "output_type": "display_data"
    },
    {
     "name": "stdout",
     "output_type": "stream",
     "text": [
      "Plot for UPDRS3 total based on DRT_ON status.\n",
      "DRT_ON==Unknown is between DRT_ON/OFF.\n",
      "Note: These groups are not having consitent membership. \n",
      "e.g. More NonUser joined the group for users as time goes by."
     ]
    },
    {
     "data": {
      "image/png": "[encoded data removed]",
      "text/plain": [
       "plot without title"
      ]
     },
     "metadata": {},
     "output_type": "display_data"
    }
   ],
   "source": [
    "cat(\"Combine duplicated observations (After ON=NA is filtered) and non-duplicated observations\")\n",
    "temp4_combined = bind_rows(temp4_dup_filtered, temp4_noDup_recoded) %>% select(-dup)\n",
    "temp4_combined %>% with(table(DRT_ON, ON, useNA = 'always'))\n",
    "temp4_combined %>% with(table(EVENT_ID, DRT_ON, useNA = 'always'))\n",
    "cat(\"So on visits 4,6,8,10,12-15, most of the visits are now labeled. \n",
    "DRT_ON == 'Unknown' will be excluded for these visits. \n",
    "For other visit, DRT_ON/OFF status is not defined for many cases\\n\")\n",
    "temp4_combined_limited = temp4_combined %>% \n",
    "    filter(!(EVENT_ID %in% c(\"V04\", \"V06\", \"V08\", \"V10\", \"V12\", \"V13\", \"V14\", \"V15\") & DRT_ON==\"Unknown\"))\n",
    "cat(\"\\nObs from PPMI PD cohorts\")\n",
    "temp4_combined_limited %>% \n",
    "  inner_join(., dx, by=\"PATNO\") %>% filter(grepl(\"iPD_stable_YsImg_PPMI\", DIAG)) %>%\n",
    "  with(table(EVENT_ID, DRT_ON, useNA = 'always'))\n",
    "temp4_combined_limited %>% \n",
    "  inner_join(., dx, by=\"PATNO\") %>% filter(grepl(\"iPD_stable_YsImg_PPMI\", DIAG)) %>%\n",
    "  mutate(CAT = as.character(DRT_ON)) %>% \n",
    "#   mutate(CAT=ON3) %>%\n",
    "  mutate(Vord = as.numeric(factor(EVENT_ID, levels=Visits))-2) %>%\n",
    "  data.frame %>% filter( Vord %%1==0 | Vord==-1) %>% \n",
    "  mutate(TOTAL = rowSums(.[,grep(\"NP\", names(.))])) %>% filter(!is.na(TOTAL)) %>%\n",
    "  group_by(CAT, Vord) %>% summarise_at(vars(\"TOTAL\"), funs(mean=median, se, n())) %>% filter(n>10) %>% \n",
    "  ungroup %>% arrange(CAT, Vord)   %>% filter(complete.cases(.)) %>%\n",
    "  ggplot + aes(Vord, mean, colour=CAT) +\n",
    "  geom_line(aes(group=CAT)) + geom_point() + \n",
    "  geom_errorbar(aes(ymin=mean-se, ymax=mean+se), width=.2) + \n",
    "  scale_x_continuous(breaks = seq(0, 16, by = 4)) + \n",
    "  scale_y_continuous(breaks = seq(15, 46, by = 10)) + \n",
    "  ylab(\"Total\") + xlab(\"Visit (0 == Baseline)\")\n",
    "cat(\"Plot for UPDRS3 total based on DRT_ON status.\n",
    "DRT_ON==Unknown is between DRT_ON/OFF.\n",
    "Note: These groups are not having consitent membership. \n",
    "e.g. More NonUser joined the group for users as time goes by.\")"
   ]
  },
  {
   "cell_type": "code",
   "execution_count": 10,
   "metadata": {},
   "outputs": [
    {
     "name": "stdout",
     "output_type": "stream",
     "text": [
      "Combine UPDRS1, 2,3(processed), 4, all together and set the baseline.\n",
      "Note: Baseline were created like LOCF method using SC and BL visits\n",
      "\n",
      "CROSS-TAB: Ordinary visit orders and EVENT_IDs"
     ]
    },
    {
     "data": {
      "text/plain": [
       "      EVENT_ID\n",
       "Vord     BL   PW  RS1   SC   ST  U01  V01  V02  V03  V04  V05  V06  V07  V08  V09  V10  V11  V12  V13  V14  V15 <NA>\n",
       "  -1      0    0    0 1101    0    0    0    0    0    0    0    0    0    0    0    0    0    0    0    0    0    0\n",
       "  0    1955    0    0    0    0    0    0    0    0    0    0    0    0    0    0    0    0    0    0    0    0    0\n",
       "  1       0    0    0    0    0    0  507    0    0    0    0    0    0    0    0    0    0    0    0    0    0    0\n",
       "  2       0    0    0    0    0    0    0  891    0    0    0    0    0    0    0    0    0    0    0    0    0    0\n",
       "  3       0    0    0    0    0    0    0    0  457    0    0    0    0    0    0    0    0    0    0    0    0    0\n",
       "  4       0    0    0    0    0    0    0    0    0 1301    0    0    0    0    0    0    0    0    0    0    0    0\n",
       "  5       0    0    0    0    0    0    0    0    0    0  809    0    0    0    0    0    0    0    0    0    0    0\n",
       "  6       0    0    0    0    0    0    0    0    0    0    0 1285    0    0    0    0    0    0    0    0    0    0\n",
       "  7       0    0    0    0    0    0    0    0    0    0    0    0  588    0    0    0    0    0    0    0    0    0\n",
       "  8       0    0    0    0    0    0    0    0    0    0    0    0    0  945    0    0    0    0    0    0    0    0\n",
       "  9       0    0    0    0    0    0    0    0    0    0    0    0    0    0  491    0    0    0    0    0    0    0\n",
       "  10      0    0    0    0    0    0    0    0    0    0    0    0    0    0    0  839    0    0    0    0    0    0\n",
       "  11      0    0    0    0    0    0    0    0    0    0    0    0    0    0    0    0  330    0    0    0    0    0\n",
       "  12      0    0    0    0    0    0    0    0    0    0    0    0    0    0    0    0    0  665    0    0    0    0\n",
       "  13      0    0    0    0    0    0    0    0    0    0    0    0    0    0    0    0    0    0  281    0    0    0\n",
       "  14      0    0    0    0    0    0    0    0    0    0    0    0    0    0    0    0    0    0    0  146    0    0\n",
       "  15      0    0    0    0    0    0    0    0    0    0    0    0    0    0    0    0    0    0    0    0    3    0\n",
       "  <NA>    0   10    4    0  205    3    0    0    0    0    0    0    0    0    0    0    0    0    0    0    0    0"
      ]
     },
     "metadata": {},
     "output_type": "display_data"
    }
   ],
   "source": [
    "cat(\"Combine UPDRS1, 2,3(processed), 4, all together and set the baseline.\n",
    "Note: Baseline were created like LOCF method using SC and BL visits\\n\")\n",
    "UPDRS = full_join(temp1, temp2, by=c(\"PATNO\", \"EVENT_ID\", \"DATE\")) %>% \n",
    "  full_join(., temp3, by=c(\"PATNO\", \"EVENT_ID\", \"DATE\")) %>% \n",
    "  full_join(., temp4_combined_limited, by=c(\"PATNO\", \"EVENT_ID\", \"DATE\")) %>% \n",
    "  full_join(., temp5, by=c(\"PATNO\", \"EVENT_ID\", \"DATE\")) %>% \n",
    "  mutate(num_na = rowSums(is.na(.))) %>% # Count the missing obs per visit\n",
    "  mutate(Vord = as.numeric(factor(EVENT_ID, levels=Visits))-2)\n",
    "\n",
    "items = c(names(UPDRS)[grep('NP', names(UPDRS))], \"HY\")\n",
    "items_NP1 = names(UPDRS)[grep('NP1', names(UPDRS))]\n",
    "items_NP2 = names(UPDRS)[grep('NP2', names(UPDRS))]\n",
    "items_NP3 = names(UPDRS)[grep('NP3', names(UPDRS))]\n",
    "items_NP4 = names(UPDRS)[grep('NP4', names(UPDRS))]\n",
    "\n",
    "cat(\"\\nCROSS-TAB: Ordinary visit orders and EVENT_IDs\")\n",
    "UPDRS %>% with(table(Vord, EVENT_ID, useNA = 'always'))\n",
    "\n",
    "setBL_func = function(data){\n",
    "  BL = data %>% filter(Vord <= 0) %>% #SC and . BL\n",
    "    arrange(Vord) %>% \n",
    "    group_by(PATNO) %>% \n",
    "    #LOCF for NAs in the UPDRS items for BL if SC is available\n",
    "    mutate_at(vars(items),funs(na.locf(., na.rm=F))) %>% \n",
    "    ungroup%>% \n",
    "    arrange(desc(Vord)) %>%  \n",
    "    distinct(PATNO, .keep_all = T) %>% # Keep the latest date among BL or SC\n",
    "    ungroup %>% \n",
    "    mutate(Vord=-0.1)  \n",
    "  data %>% filter(is.na(Vord) | Vord>0) %>% \n",
    "    bind_rows(BL, .)\n",
    "}\n",
    "\n",
    "\n",
    "# UPDRS = setBL_func(UPDRS)\n",
    "# cat(\"CROSS-TAB: After reducing baseline (Vord==-0.1) per indiidual\")\n",
    "# UPDRS %>% with(table(Vord, EVENT_ID, useNA = 'always'))"
   ]
  },
  {
   "cell_type": "code",
   "execution_count": 23,
   "metadata": {
    "scrolled": false
   },
   "outputs": [
    {
     "data": {
      "text/html": [
       "<table>\n",
       "<thead><tr><th></th><th scope=col>BL</th><th scope=col>SC</th><th scope=col>V01</th><th scope=col>V02</th><th scope=col>V03</th><th scope=col>V04</th><th scope=col>V05</th><th scope=col>V06</th><th scope=col>V07</th><th scope=col>V08</th><th scope=col>V09</th><th scope=col>V10</th><th scope=col>V11</th><th scope=col>V12</th><th scope=col>V13</th><th scope=col>V14</th><th scope=col>V15</th><th scope=col>Sum</th></tr></thead>\n",
       "<tbody>\n",
       "\t<tr><th scope=row>0</th><td> 416 </td><td>   0 </td><td>  0  </td><td>  3  </td><td>  4  </td><td> 555 </td><td> 19  </td><td> 644 </td><td>  2  </td><td>593  </td><td>  2  </td><td>558  </td><td>  0  </td><td>478  </td><td>266  </td><td> 91  </td><td>2    </td><td> 3633</td></tr>\n",
       "\t<tr><th scope=row>1</th><td>   2 </td><td>   0 </td><td>  0  </td><td>  0  </td><td>  0  </td><td>   0 </td><td>  0  </td><td>   5 </td><td>  0  </td><td>  1  </td><td>  0  </td><td>  2  </td><td>  0  </td><td>  4  </td><td>  0  </td><td>  4  </td><td>0    </td><td>   18</td></tr>\n",
       "\t<tr><th scope=row>2</th><td>  76 </td><td>  38 </td><td> 20  </td><td>201  </td><td>152  </td><td>  86 </td><td>407  </td><td>  92 </td><td>422  </td><td> 56  </td><td>385  </td><td> 41  </td><td>296  </td><td> 22  </td><td>  6  </td><td>  0  </td><td>0    </td><td> 2300</td></tr>\n",
       "\t<tr><th scope=row>3</th><td>   0 </td><td>   0 </td><td>  0  </td><td>  0  </td><td>  0  </td><td>   0 </td><td>  1  </td><td>   0 </td><td>  2  </td><td>  0  </td><td>  3  </td><td>  0  </td><td>  1  </td><td>  2  </td><td>  0  </td><td>  0  </td><td>0    </td><td>    9</td></tr>\n",
       "\t<tr><th scope=row>4</th><td>   0 </td><td>   0 </td><td>  1  </td><td>  0  </td><td>  0  </td><td>   0 </td><td>  0  </td><td>   0 </td><td>  1  </td><td>  0  </td><td>  1  </td><td>  2  </td><td>  0  </td><td>  0  </td><td>  0  </td><td>  0  </td><td>0    </td><td>    5</td></tr>\n",
       "\t<tr><th scope=row>5</th><td>   0 </td><td>   0 </td><td>  0  </td><td>  0  </td><td>  0  </td><td>   0 </td><td>  0  </td><td>   0 </td><td>  1  </td><td>  0  </td><td>  1  </td><td>  0  </td><td>  0  </td><td>  0  </td><td>  0  </td><td>  0  </td><td>0    </td><td>    2</td></tr>\n",
       "\t<tr><th scope=row>6</th><td>  56 </td><td>   0 </td><td>  0  </td><td>  0  </td><td>  0  </td><td>   9 </td><td>  0  </td><td>  16 </td><td>  0  </td><td>  9  </td><td>  0  </td><td>  6  </td><td>  0  </td><td>  0  </td><td>  0  </td><td>  0  </td><td>0    </td><td>   96</td></tr>\n",
       "\t<tr><th scope=row>7</th><td>   0 </td><td>   0 </td><td>  0  </td><td>  0  </td><td>  0  </td><td>   0 </td><td>  0  </td><td>   0 </td><td>  0  </td><td>  1  </td><td>  1  </td><td>  0  </td><td>  2  </td><td>  0  </td><td>  0  </td><td>  0  </td><td>0    </td><td>    4</td></tr>\n",
       "\t<tr><th scope=row>8</th><td>1393 </td><td>1052 </td><td>482  </td><td>682  </td><td>297  </td><td> 640 </td><td>375  </td><td> 515 </td><td>155  </td><td>281  </td><td> 93  </td><td>215  </td><td> 27  </td><td>157  </td><td>  8  </td><td> 48  </td><td>1    </td><td> 6421</td></tr>\n",
       "\t<tr><th scope=row>9</th><td>   2 </td><td>   3 </td><td>  0  </td><td>  1  </td><td>  2  </td><td>   2 </td><td>  0  </td><td>   3 </td><td>  1  </td><td>  2  </td><td>  0  </td><td>  0  </td><td>  0  </td><td>  1  </td><td>  0  </td><td>  0  </td><td>0    </td><td>   17</td></tr>\n",
       "\t<tr><th scope=row>10</th><td>   0 </td><td>   1 </td><td>  1  </td><td>  0  </td><td>  0  </td><td>   2 </td><td>  2  </td><td>   4 </td><td>  2  </td><td>  1  </td><td>  2  </td><td>  0  </td><td>  0  </td><td>  0  </td><td>  0  </td><td>  0  </td><td>0    </td><td>   15</td></tr>\n",
       "\t<tr><th scope=row>11</th><td>   1 </td><td>   0 </td><td>  0  </td><td>  2  </td><td>  0  </td><td>   1 </td><td>  0  </td><td>   1 </td><td>  2  </td><td>  0  </td><td>  1  </td><td>  0  </td><td>  0  </td><td>  0  </td><td>  0  </td><td>  0  </td><td>0    </td><td>    8</td></tr>\n",
       "\t<tr><th scope=row>12</th><td>   1 </td><td>   0 </td><td>  1  </td><td>  0  </td><td>  0  </td><td>   0 </td><td>  0  </td><td>   0 </td><td>  0  </td><td>  0  </td><td>  1  </td><td>  0  </td><td>  0  </td><td>  0  </td><td>  0  </td><td>  0  </td><td>0    </td><td>    3</td></tr>\n",
       "\t<tr><th scope=row>13</th><td>   0 </td><td>   1 </td><td>  0  </td><td>  0  </td><td>  0  </td><td>   0 </td><td>  0  </td><td>   1 </td><td>  0  </td><td>  0  </td><td>  0  </td><td>  0  </td><td>  0  </td><td>  0  </td><td>  0  </td><td>  0  </td><td>0    </td><td>    2</td></tr>\n",
       "\t<tr><th scope=row>14</th><td>   0 </td><td>   0 </td><td>  1  </td><td>  0  </td><td>  0  </td><td>   1 </td><td>  0  </td><td>   0 </td><td>  0  </td><td>  0  </td><td>  0  </td><td>  0  </td><td>  0  </td><td>  0  </td><td>  0  </td><td>  0  </td><td>0    </td><td>    2</td></tr>\n",
       "\t<tr><th scope=row>15</th><td>   2 </td><td>   0 </td><td>  0  </td><td>  1  </td><td>  0  </td><td>   0 </td><td>  1  </td><td>   0 </td><td>  0  </td><td>  0  </td><td>  0  </td><td>  0  </td><td>  0  </td><td>  0  </td><td>  0  </td><td>  0  </td><td>0    </td><td>    4</td></tr>\n",
       "\t<tr><th scope=row>20</th><td>   0 </td><td>   0 </td><td>  0  </td><td>  0  </td><td>  0  </td><td>   1 </td><td>  0  </td><td>   0 </td><td>  0  </td><td>  0  </td><td>  0  </td><td>  2  </td><td>  0  </td><td>  0  </td><td>  0  </td><td>  0  </td><td>0    </td><td>    3</td></tr>\n",
       "\t<tr><th scope=row>22</th><td>   0 </td><td>   0 </td><td>  0  </td><td>  0  </td><td>  1  </td><td>   0 </td><td>  0  </td><td>   0 </td><td>  0  </td><td>  0  </td><td>  0  </td><td>  0  </td><td>  0  </td><td>  0  </td><td>  0  </td><td>  0  </td><td>0    </td><td>    1</td></tr>\n",
       "\t<tr><th scope=row>28</th><td>   1 </td><td>   2 </td><td>  1  </td><td>  0  </td><td>  0  </td><td>   0 </td><td>  0  </td><td>   1 </td><td>  0  </td><td>  1  </td><td>  0  </td><td>  0  </td><td>  0  </td><td>  0  </td><td>  0  </td><td>  1  </td><td>0    </td><td>    7</td></tr>\n",
       "\t<tr><th scope=row>32</th><td>   1 </td><td>   0 </td><td>  0  </td><td>  0  </td><td>  0  </td><td>   0 </td><td>  0  </td><td>   1 </td><td>  0  </td><td>  0  </td><td>  0  </td><td>  0  </td><td>  0  </td><td>  0  </td><td>  0  </td><td>  0  </td><td>0    </td><td>    2</td></tr>\n",
       "\t<tr><th scope=row>33</th><td>   0 </td><td>   0 </td><td>  0  </td><td>  0  </td><td>  0  </td><td>   1 </td><td>  0  </td><td>   0 </td><td>  0  </td><td>  0  </td><td>  0  </td><td>  0  </td><td>  0  </td><td>  0  </td><td>  0  </td><td>  0  </td><td>0    </td><td>    1</td></tr>\n",
       "\t<tr><th scope=row>34</th><td>   0 </td><td>   1 </td><td>  0  </td><td>  0  </td><td>  0  </td><td>   0 </td><td>  2  </td><td>   0 </td><td>  0  </td><td>  0  </td><td>  0  </td><td>  1  </td><td>  0  </td><td>  0  </td><td>  0  </td><td>  0  </td><td>0    </td><td>    4</td></tr>\n",
       "\t<tr><th scope=row>37</th><td>   1 </td><td>   0 </td><td>  0  </td><td>  0  </td><td>  0  </td><td>   2 </td><td>  1  </td><td>   1 </td><td>  0  </td><td>  0  </td><td>  0  </td><td>  9  </td><td>  3  </td><td>  1  </td><td>  1  </td><td>  0  </td><td>0    </td><td>   19</td></tr>\n",
       "\t<tr><th scope=row>38</th><td>   0 </td><td>   0 </td><td>  0  </td><td>  0  </td><td>  0  </td><td>   1 </td><td>  0  </td><td>   0 </td><td>  0  </td><td>  0  </td><td>  0  </td><td>  0  </td><td>  0  </td><td>  0  </td><td>  0  </td><td>  0  </td><td>0    </td><td>    1</td></tr>\n",
       "\t<tr><th scope=row>39</th><td>   1 </td><td>   0 </td><td>  0  </td><td>  0  </td><td>  0  </td><td>   0 </td><td>  0  </td><td>   0 </td><td>  0  </td><td>  0  </td><td>  0  </td><td>  0  </td><td>  0  </td><td>  0  </td><td>  0  </td><td>  0  </td><td>0    </td><td>    1</td></tr>\n",
       "\t<tr><th scope=row>43</th><td>   0 </td><td>   3 </td><td>  0  </td><td>  1  </td><td>  1  </td><td>   0 </td><td>  0  </td><td>   1 </td><td>  0  </td><td>  0  </td><td>  1  </td><td>  0  </td><td>  1  </td><td>  0  </td><td>  0  </td><td>  0  </td><td>0    </td><td>    8</td></tr>\n",
       "\t<tr><th scope=row>49</th><td>   1 </td><td>   0 </td><td>  0  </td><td>  0  </td><td>  0  </td><td>   0 </td><td>  1  </td><td>   0 </td><td>  0  </td><td>  0  </td><td>  0  </td><td>  3  </td><td>  0  </td><td>  0  </td><td>  0  </td><td>  2  </td><td>0    </td><td>    7</td></tr>\n",
       "\t<tr><th scope=row>65</th><td>   1 </td><td>   0 </td><td>  0  </td><td>  0  </td><td>  0  </td><td>   0 </td><td>  0  </td><td>   0 </td><td>  0  </td><td>  0  </td><td>  0  </td><td>  0  </td><td>  0  </td><td>  0  </td><td>  0  </td><td>  0  </td><td>0    </td><td>    1</td></tr>\n",
       "\t<tr><th scope=row>Sum</th><td>1955 </td><td>1101 </td><td>507  </td><td>891  </td><td>457  </td><td>1301 </td><td>809  </td><td>1285 </td><td>588  </td><td>945  </td><td>491  </td><td>839  </td><td>330  </td><td>665  </td><td>281  </td><td>146  </td><td>3    </td><td>12594</td></tr>\n",
       "</tbody>\n",
       "</table>\n"
      ],
      "text/latex": [
       "\\begin{tabular}{r|llllllllllllllllll}\n",
       "  & BL & SC & V01 & V02 & V03 & V04 & V05 & V06 & V07 & V08 & V09 & V10 & V11 & V12 & V13 & V14 & V15 & Sum\\\\\n",
       "\\hline\n",
       "\t0 &  416  &    0  &   0   &   3   &   4   &  555  &  19   &  644  &   2   & 593   &   2   & 558   &   0   & 478   & 266   &  91   & 2     &  3633\\\\\n",
       "\t1 &    2  &    0  &   0   &   0   &   0   &    0  &   0   &    5  &   0   &   1   &   0   &   2   &   0   &   4   &   0   &   4   & 0     &    18\\\\\n",
       "\t2 &   76  &   38  &  20   & 201   & 152   &   86  & 407   &   92  & 422   &  56   & 385   &  41   & 296   &  22   &   6   &   0   & 0     &  2300\\\\\n",
       "\t3 &    0  &    0  &   0   &   0   &   0   &    0  &   1   &    0  &   2   &   0   &   3   &   0   &   1   &   2   &   0   &   0   & 0     &     9\\\\\n",
       "\t4 &    0  &    0  &   1   &   0   &   0   &    0  &   0   &    0  &   1   &   0   &   1   &   2   &   0   &   0   &   0   &   0   & 0     &     5\\\\\n",
       "\t5 &    0  &    0  &   0   &   0   &   0   &    0  &   0   &    0  &   1   &   0   &   1   &   0   &   0   &   0   &   0   &   0   & 0     &     2\\\\\n",
       "\t6 &   56  &    0  &   0   &   0   &   0   &    9  &   0   &   16  &   0   &   9   &   0   &   6   &   0   &   0   &   0   &   0   & 0     &    96\\\\\n",
       "\t7 &    0  &    0  &   0   &   0   &   0   &    0  &   0   &    0  &   0   &   1   &   1   &   0   &   2   &   0   &   0   &   0   & 0     &     4\\\\\n",
       "\t8 & 1393  & 1052  & 482   & 682   & 297   &  640  & 375   &  515  & 155   & 281   &  93   & 215   &  27   & 157   &   8   &  48   & 1     &  6421\\\\\n",
       "\t9 &    2  &    3  &   0   &   1   &   2   &    2  &   0   &    3  &   1   &   2   &   0   &   0   &   0   &   1   &   0   &   0   & 0     &    17\\\\\n",
       "\t10 &    0  &    1  &   1   &   0   &   0   &    2  &   2   &    4  &   2   &   1   &   2   &   0   &   0   &   0   &   0   &   0   & 0     &    15\\\\\n",
       "\t11 &    1  &    0  &   0   &   2   &   0   &    1  &   0   &    1  &   2   &   0   &   1   &   0   &   0   &   0   &   0   &   0   & 0     &     8\\\\\n",
       "\t12 &    1  &    0  &   1   &   0   &   0   &    0  &   0   &    0  &   0   &   0   &   1   &   0   &   0   &   0   &   0   &   0   & 0     &     3\\\\\n",
       "\t13 &    0  &    1  &   0   &   0   &   0   &    0  &   0   &    1  &   0   &   0   &   0   &   0   &   0   &   0   &   0   &   0   & 0     &     2\\\\\n",
       "\t14 &    0  &    0  &   1   &   0   &   0   &    1  &   0   &    0  &   0   &   0   &   0   &   0   &   0   &   0   &   0   &   0   & 0     &     2\\\\\n",
       "\t15 &    2  &    0  &   0   &   1   &   0   &    0  &   1   &    0  &   0   &   0   &   0   &   0   &   0   &   0   &   0   &   0   & 0     &     4\\\\\n",
       "\t20 &    0  &    0  &   0   &   0   &   0   &    1  &   0   &    0  &   0   &   0   &   0   &   2   &   0   &   0   &   0   &   0   & 0     &     3\\\\\n",
       "\t22 &    0  &    0  &   0   &   0   &   1   &    0  &   0   &    0  &   0   &   0   &   0   &   0   &   0   &   0   &   0   &   0   & 0     &     1\\\\\n",
       "\t28 &    1  &    2  &   1   &   0   &   0   &    0  &   0   &    1  &   0   &   1   &   0   &   0   &   0   &   0   &   0   &   1   & 0     &     7\\\\\n",
       "\t32 &    1  &    0  &   0   &   0   &   0   &    0  &   0   &    1  &   0   &   0   &   0   &   0   &   0   &   0   &   0   &   0   & 0     &     2\\\\\n",
       "\t33 &    0  &    0  &   0   &   0   &   0   &    1  &   0   &    0  &   0   &   0   &   0   &   0   &   0   &   0   &   0   &   0   & 0     &     1\\\\\n",
       "\t34 &    0  &    1  &   0   &   0   &   0   &    0  &   2   &    0  &   0   &   0   &   0   &   1   &   0   &   0   &   0   &   0   & 0     &     4\\\\\n",
       "\t37 &    1  &    0  &   0   &   0   &   0   &    2  &   1   &    1  &   0   &   0   &   0   &   9   &   3   &   1   &   1   &   0   & 0     &    19\\\\\n",
       "\t38 &    0  &    0  &   0   &   0   &   0   &    1  &   0   &    0  &   0   &   0   &   0   &   0   &   0   &   0   &   0   &   0   & 0     &     1\\\\\n",
       "\t39 &    1  &    0  &   0   &   0   &   0   &    0  &   0   &    0  &   0   &   0   &   0   &   0   &   0   &   0   &   0   &   0   & 0     &     1\\\\\n",
       "\t43 &    0  &    3  &   0   &   1   &   1   &    0  &   0   &    1  &   0   &   0   &   1   &   0   &   1   &   0   &   0   &   0   & 0     &     8\\\\\n",
       "\t49 &    1  &    0  &   0   &   0   &   0   &    0  &   1   &    0  &   0   &   0   &   0   &   3   &   0   &   0   &   0   &   2   & 0     &     7\\\\\n",
       "\t65 &    1  &    0  &   0   &   0   &   0   &    0  &   0   &    0  &   0   &   0   &   0   &   0   &   0   &   0   &   0   &   0   & 0     &     1\\\\\n",
       "\tSum & 1955  & 1101  & 507   & 891   & 457   & 1301  & 809   & 1285  & 588   & 945   & 491   & 839   & 330   & 665   & 281   & 146   & 3     & 12594\\\\\n",
       "\\end{tabular}\n"
      ],
      "text/markdown": [
       "\n",
       "| <!--/--> | BL | SC | V01 | V02 | V03 | V04 | V05 | V06 | V07 | V08 | V09 | V10 | V11 | V12 | V13 | V14 | V15 | Sum | \n",
       "|---|---|---|---|---|---|---|---|---|---|---|---|---|---|---|---|---|---|---|---|---|---|---|---|---|---|---|---|---|\n",
       "| 0 |  416  |    0  |   0   |   3   |   4   |  555  |  19   |  644  |   2   | 593   |   2   | 558   |   0   | 478   | 266   |  91   | 2     |  3633 | \n",
       "| 1 |    2  |    0  |   0   |   0   |   0   |    0  |   0   |    5  |   0   |   1   |   0   |   2   |   0   |   4   |   0   |   4   | 0     |    18 | \n",
       "| 2 |   76  |   38  |  20   | 201   | 152   |   86  | 407   |   92  | 422   |  56   | 385   |  41   | 296   |  22   |   6   |   0   | 0     |  2300 | \n",
       "| 3 |    0  |    0  |   0   |   0   |   0   |    0  |   1   |    0  |   2   |   0   |   3   |   0   |   1   |   2   |   0   |   0   | 0     |     9 | \n",
       "| 4 |    0  |    0  |   1   |   0   |   0   |    0  |   0   |    0  |   1   |   0   |   1   |   2   |   0   |   0   |   0   |   0   | 0     |     5 | \n",
       "| 5 |    0  |    0  |   0   |   0   |   0   |    0  |   0   |    0  |   1   |   0   |   1   |   0   |   0   |   0   |   0   |   0   | 0     |     2 | \n",
       "| 6 |   56  |    0  |   0   |   0   |   0   |    9  |   0   |   16  |   0   |   9   |   0   |   6   |   0   |   0   |   0   |   0   | 0     |    96 | \n",
       "| 7 |    0  |    0  |   0   |   0   |   0   |    0  |   0   |    0  |   0   |   1   |   1   |   0   |   2   |   0   |   0   |   0   | 0     |     4 | \n",
       "| 8 | 1393  | 1052  | 482   | 682   | 297   |  640  | 375   |  515  | 155   | 281   |  93   | 215   |  27   | 157   |   8   |  48   | 1     |  6421 | \n",
       "| 9 |    2  |    3  |   0   |   1   |   2   |    2  |   0   |    3  |   1   |   2   |   0   |   0   |   0   |   1   |   0   |   0   | 0     |    17 | \n",
       "| 10 |    0  |    1  |   1   |   0   |   0   |    2  |   2   |    4  |   2   |   1   |   2   |   0   |   0   |   0   |   0   |   0   | 0     |    15 | \n",
       "| 11 |    1  |    0  |   0   |   2   |   0   |    1  |   0   |    1  |   2   |   0   |   1   |   0   |   0   |   0   |   0   |   0   | 0     |     8 | \n",
       "| 12 |    1  |    0  |   1   |   0   |   0   |    0  |   0   |    0  |   0   |   0   |   1   |   0   |   0   |   0   |   0   |   0   | 0     |     3 | \n",
       "| 13 |    0  |    1  |   0   |   0   |   0   |    0  |   0   |    1  |   0   |   0   |   0   |   0   |   0   |   0   |   0   |   0   | 0     |     2 | \n",
       "| 14 |    0  |    0  |   1   |   0   |   0   |    1  |   0   |    0  |   0   |   0   |   0   |   0   |   0   |   0   |   0   |   0   | 0     |     2 | \n",
       "| 15 |    2  |    0  |   0   |   1   |   0   |    0  |   1   |    0  |   0   |   0   |   0   |   0   |   0   |   0   |   0   |   0   | 0     |     4 | \n",
       "| 20 |    0  |    0  |   0   |   0   |   0   |    1  |   0   |    0  |   0   |   0   |   0   |   2   |   0   |   0   |   0   |   0   | 0     |     3 | \n",
       "| 22 |    0  |    0  |   0   |   0   |   1   |    0  |   0   |    0  |   0   |   0   |   0   |   0   |   0   |   0   |   0   |   0   | 0     |     1 | \n",
       "| 28 |    1  |    2  |   1   |   0   |   0   |    0  |   0   |    1  |   0   |   1   |   0   |   0   |   0   |   0   |   0   |   1   | 0     |     7 | \n",
       "| 32 |    1  |    0  |   0   |   0   |   0   |    0  |   0   |    1  |   0   |   0   |   0   |   0   |   0   |   0   |   0   |   0   | 0     |     2 | \n",
       "| 33 |    0  |    0  |   0   |   0   |   0   |    1  |   0   |    0  |   0   |   0   |   0   |   0   |   0   |   0   |   0   |   0   | 0     |     1 | \n",
       "| 34 |    0  |    1  |   0   |   0   |   0   |    0  |   2   |    0  |   0   |   0   |   0   |   1   |   0   |   0   |   0   |   0   | 0     |     4 | \n",
       "| 37 |    1  |    0  |   0   |   0   |   0   |    2  |   1   |    1  |   0   |   0   |   0   |   9   |   3   |   1   |   1   |   0   | 0     |    19 | \n",
       "| 38 |    0  |    0  |   0   |   0   |   0   |    1  |   0   |    0  |   0   |   0   |   0   |   0   |   0   |   0   |   0   |   0   | 0     |     1 | \n",
       "| 39 |    1  |    0  |   0   |   0   |   0   |    0  |   0   |    0  |   0   |   0   |   0   |   0   |   0   |   0   |   0   |   0   | 0     |     1 | \n",
       "| 43 |    0  |    3  |   0   |   1   |   1   |    0  |   0   |    1  |   0   |   0   |   1   |   0   |   1   |   0   |   0   |   0   | 0     |     8 | \n",
       "| 49 |    1  |    0  |   0   |   0   |   0   |    0  |   1   |    0  |   0   |   0   |   0   |   3   |   0   |   0   |   0   |   2   | 0     |     7 | \n",
       "| 65 |    1  |    0  |   0   |   0   |   0   |    0  |   0   |    0  |   0   |   0   |   0   |   0   |   0   |   0   |   0   |   0   | 0     |     1 | \n",
       "| Sum | 1955  | 1101  | 507   | 891   | 457   | 1301  | 809   | 1285  | 588   | 945   | 491   | 839   | 330   | 665   | 281   | 146   | 3     | 12594 | \n",
       "\n",
       "\n"
      ],
      "text/plain": [
       "      EVENT_ID\n",
       "num_na BL   SC   V01 V02 V03 V04  V05 V06  V07 V08 V09 V10 V11 V12 V13 V14 V15 Sum  \n",
       "   0    416    0   0   3   4  555  19  644   2 593   2 558   0 478 266  91 2    3633\n",
       "   1      2    0   0   0   0    0   0    5   0   1   0   2   0   4   0   4 0      18\n",
       "   2     76   38  20 201 152   86 407   92 422  56 385  41 296  22   6   0 0    2300\n",
       "   3      0    0   0   0   0    0   1    0   2   0   3   0   1   2   0   0 0       9\n",
       "   4      0    0   1   0   0    0   0    0   1   0   1   2   0   0   0   0 0       5\n",
       "   5      0    0   0   0   0    0   0    0   1   0   1   0   0   0   0   0 0       2\n",
       "   6     56    0   0   0   0    9   0   16   0   9   0   6   0   0   0   0 0      96\n",
       "   7      0    0   0   0   0    0   0    0   0   1   1   0   2   0   0   0 0       4\n",
       "   8   1393 1052 482 682 297  640 375  515 155 281  93 215  27 157   8  48 1    6421\n",
       "   9      2    3   0   1   2    2   0    3   1   2   0   0   0   1   0   0 0      17\n",
       "   10     0    1   1   0   0    2   2    4   2   1   2   0   0   0   0   0 0      15\n",
       "   11     1    0   0   2   0    1   0    1   2   0   1   0   0   0   0   0 0       8\n",
       "   12     1    0   1   0   0    0   0    0   0   0   1   0   0   0   0   0 0       3\n",
       "   13     0    1   0   0   0    0   0    1   0   0   0   0   0   0   0   0 0       2\n",
       "   14     0    0   1   0   0    1   0    0   0   0   0   0   0   0   0   0 0       2\n",
       "   15     2    0   0   1   0    0   1    0   0   0   0   0   0   0   0   0 0       4\n",
       "   20     0    0   0   0   0    1   0    0   0   0   0   2   0   0   0   0 0       3\n",
       "   22     0    0   0   0   1    0   0    0   0   0   0   0   0   0   0   0 0       1\n",
       "   28     1    2   1   0   0    0   0    1   0   1   0   0   0   0   0   1 0       7\n",
       "   32     1    0   0   0   0    0   0    1   0   0   0   0   0   0   0   0 0       2\n",
       "   33     0    0   0   0   0    1   0    0   0   0   0   0   0   0   0   0 0       1\n",
       "   34     0    1   0   0   0    0   2    0   0   0   0   1   0   0   0   0 0       4\n",
       "   37     1    0   0   0   0    2   1    1   0   0   0   9   3   1   1   0 0      19\n",
       "   38     0    0   0   0   0    1   0    0   0   0   0   0   0   0   0   0 0       1\n",
       "   39     1    0   0   0   0    0   0    0   0   0   0   0   0   0   0   0 0       1\n",
       "   43     0    3   0   1   1    0   0    1   0   0   1   0   1   0   0   0 0       8\n",
       "   49     1    0   0   0   0    0   1    0   0   0   0   3   0   0   0   2 0       7\n",
       "   65     1    0   0   0   0    0   0    0   0   0   0   0   0   0   0   0 0       1\n",
       "   Sum 1955 1101 507 891 457 1301 809 1285 588 945 491 839 330 665 281 146 3   12594"
      ]
     },
     "metadata": {},
     "output_type": "display_data"
    },
    {
     "name": "stdout",
     "output_type": "stream",
     "text": [
      "The index numbers correspond to the number of missing values in UPDRS items + HY + MEDTIME + ON. \n",
      "2: missing MEDTIME and ON.\n",
      "8: missing UPDRS4\n",
      "Note UPDRS4 is only eveluated after PD medication initiation.\n",
      "Check how many UPDRS4 are missing per visit X PDMED\n",
      "Following data replacement is conducted.\n",
      "PDMED==0 or 3, -> NA in UPDRS4 items are replaced with 0"
     ]
    },
    {
     "data": {
      "text/plain": [
       "        PDMED\n",
       "EVENT_ID    0    1    2    3    4    5    6    7\n",
       "     BL  1396   10    1    5   15    9    1   20\n",
       "     PW     3    0    0    0    0    0    0    0\n",
       "     RS1    4    0    0    0    0    0    0    0\n",
       "     SC  1058    1    0    0    0    1    0    0\n",
       "     ST   198    0    0    1    0    0    0    0\n",
       "     U01    1    0    0    0    0    0    0    0\n",
       "     V01  485    0    1    0    0    0    0    0\n",
       "     V02  642    7    2    6   12    5    4    8\n",
       "     V03  275    9    4   10    0    1    0    0\n",
       "     V04  638    4    1   11    2    0    0    0\n",
       "     V05  353    9    2   11    1    1    2    1\n",
       "     V06  511   11    1   12    2    2    0    3\n",
       "     V07  148    6    1    4    0    0    1    0\n",
       "     V08  279   10    1    4    0    0    1    0\n",
       "     V09   91    3    0    0    1    1    0    1\n",
       "     V10  216    4    0    0    0    2    0    0\n",
       "     V11   24    1    0    1    0    1    0    0\n",
       "     V12  156    0    0    2    0    0    0    0\n",
       "     V13    8    0    0    0    0    0    0    0\n",
       "     V14   49    0    0    0    0    0    0    0\n",
       "     V15    1    0    0    0    0    0    0    0"
      ]
     },
     "metadata": {},
     "output_type": "display_data"
    },
    {
     "data": {
      "text/html": [
       "<table>\n",
       "<thead><tr><th></th><th scope=col>BL</th><th scope=col>SC</th><th scope=col>V01</th><th scope=col>V02</th><th scope=col>V03</th><th scope=col>V04</th><th scope=col>V05</th><th scope=col>V06</th><th scope=col>V07</th><th scope=col>V08</th><th scope=col>V09</th><th scope=col>V10</th><th scope=col>V11</th><th scope=col>V12</th><th scope=col>V13</th><th scope=col>V14</th><th scope=col>V15</th><th scope=col>Sum</th></tr></thead>\n",
       "<tbody>\n",
       "\t<tr><th scope=row>0</th><td> 420 </td><td>   0 </td><td>  0  </td><td>  3  </td><td>  4  </td><td> 557 </td><td> 19  </td><td> 644 </td><td>  2  </td><td>593  </td><td>  2  </td><td>558  </td><td>  0  </td><td>478  </td><td>266  </td><td> 91  </td><td>2    </td><td> 3639</td></tr>\n",
       "\t<tr><th scope=row>1</th><td>   2 </td><td>   0 </td><td>  0  </td><td>  0  </td><td>  0  </td><td>   0 </td><td>  0  </td><td>   5 </td><td>  0  </td><td>  1  </td><td>  0  </td><td>  2  </td><td>  0  </td><td>  4  </td><td>  0  </td><td>  4  </td><td>0    </td><td>   18</td></tr>\n",
       "\t<tr><th scope=row>2</th><td>1468 </td><td>1088 </td><td>501  </td><td>845  </td><td>435  </td><td> 726 </td><td>768  </td><td> 607 </td><td>570  </td><td>337  </td><td>472  </td><td>256  </td><td>321  </td><td>179  </td><td> 14  </td><td> 48  </td><td>1    </td><td> 8636</td></tr>\n",
       "\t<tr><th scope=row>3</th><td>   2 </td><td>   3 </td><td>  0  </td><td>  1  </td><td>  2  </td><td>   2 </td><td>  1  </td><td>   1 </td><td>  3  </td><td>  0  </td><td>  3  </td><td>  0  </td><td>  1  </td><td>  3  </td><td>  0  </td><td>  0  </td><td>0    </td><td>   22</td></tr>\n",
       "\t<tr><th scope=row>4</th><td>   0 </td><td>   1 </td><td>  2  </td><td>  0  </td><td>  0  </td><td>   2 </td><td>  2  </td><td>   4 </td><td>  2  </td><td>  1  </td><td>  3  </td><td>  2  </td><td>  0  </td><td>  0  </td><td>  0  </td><td>  0  </td><td>0    </td><td>   19</td></tr>\n",
       "\t<tr><th scope=row>5</th><td>   1 </td><td>   0 </td><td>  0  </td><td>  2  </td><td>  0  </td><td>   1 </td><td>  0  </td><td>   1 </td><td>  3  </td><td>  0  </td><td>  2  </td><td>  0  </td><td>  0  </td><td>  0  </td><td>  0  </td><td>  0  </td><td>0    </td><td>   10</td></tr>\n",
       "\t<tr><th scope=row>6</th><td>  52 </td><td>   0 </td><td>  1  </td><td>  0  </td><td>  0  </td><td>   7 </td><td>  0  </td><td>  16 </td><td>  0  </td><td>  9  </td><td>  1  </td><td>  6  </td><td>  0  </td><td>  0  </td><td>  0  </td><td>  0  </td><td>0    </td><td>   92</td></tr>\n",
       "\t<tr><th scope=row>7</th><td>   0 </td><td>   1 </td><td>  0  </td><td>  0  </td><td>  0  </td><td>   0 </td><td>  0  </td><td>   1 </td><td>  0  </td><td>  1  </td><td>  1  </td><td>  0  </td><td>  2  </td><td>  0  </td><td>  0  </td><td>  0  </td><td>0    </td><td>    6</td></tr>\n",
       "\t<tr><th scope=row>8</th><td>   1 </td><td>   2 </td><td>  2  </td><td> 38  </td><td> 14  </td><td>   1 </td><td> 14  </td><td>   0 </td><td>  7  </td><td>  0  </td><td>  6  </td><td>  0  </td><td>  2  </td><td>  0  </td><td>  0  </td><td>  0  </td><td>0    </td><td>   87</td></tr>\n",
       "\t<tr><th scope=row>9</th><td>   0 </td><td>   0 </td><td>  0  </td><td>  1  </td><td>  0  </td><td>   0 </td><td>  0  </td><td>   2 </td><td>  0  </td><td>  2  </td><td>  0  </td><td>  0  </td><td>  0  </td><td>  0  </td><td>  0  </td><td>  0  </td><td>0    </td><td>    5</td></tr>\n",
       "\t<tr><th scope=row>10</th><td>   0 </td><td>   0 </td><td>  0  </td><td>  0  </td><td>  0  </td><td>   0 </td><td>  0  </td><td>   0 </td><td>  1  </td><td>  0  </td><td>  0  </td><td>  0  </td><td>  0  </td><td>  0  </td><td>  0  </td><td>  0  </td><td>0    </td><td>    1</td></tr>\n",
       "\t<tr><th scope=row>12</th><td>   1 </td><td>   0 </td><td>  0  </td><td>  0  </td><td>  0  </td><td>   0 </td><td>  0  </td><td>   0 </td><td>  0  </td><td>  0  </td><td>  0  </td><td>  0  </td><td>  0  </td><td>  0  </td><td>  0  </td><td>  0  </td><td>0    </td><td>    1</td></tr>\n",
       "\t<tr><th scope=row>14</th><td>   0 </td><td>   0 </td><td>  0  </td><td>  0  </td><td>  0  </td><td>   1 </td><td>  0  </td><td>   0 </td><td>  0  </td><td>  0  </td><td>  0  </td><td>  0  </td><td>  0  </td><td>  0  </td><td>  0  </td><td>  0  </td><td>0    </td><td>    1</td></tr>\n",
       "\t<tr><th scope=row>15</th><td>   2 </td><td>   0 </td><td>  0  </td><td>  0  </td><td>  0  </td><td>   0 </td><td>  1  </td><td>   0 </td><td>  0  </td><td>  0  </td><td>  0  </td><td>  0  </td><td>  0  </td><td>  0  </td><td>  0  </td><td>  0  </td><td>0    </td><td>    3</td></tr>\n",
       "\t<tr><th scope=row>20</th><td>   0 </td><td>   0 </td><td>  0  </td><td>  0  </td><td>  0  </td><td>   0 </td><td>  0  </td><td>   0 </td><td>  0  </td><td>  0  </td><td>  0  </td><td>  2  </td><td>  0  </td><td>  0  </td><td>  0  </td><td>  0  </td><td>0    </td><td>    2</td></tr>\n",
       "\t<tr><th scope=row>22</th><td>   1 </td><td>   2 </td><td>  1  </td><td>  0  </td><td>  1  </td><td>   0 </td><td>  0  </td><td>   1 </td><td>  0  </td><td>  1  </td><td>  0  </td><td>  0  </td><td>  0  </td><td>  0  </td><td>  0  </td><td>  1  </td><td>0    </td><td>    8</td></tr>\n",
       "\t<tr><th scope=row>28</th><td>   0 </td><td>   1 </td><td>  0  </td><td>  0  </td><td>  0  </td><td>   0 </td><td>  1  </td><td>   0 </td><td>  0  </td><td>  0  </td><td>  0  </td><td>  1  </td><td>  0  </td><td>  0  </td><td>  0  </td><td>  0  </td><td>0    </td><td>    3</td></tr>\n",
       "\t<tr><th scope=row>32</th><td>   1 </td><td>   0 </td><td>  0  </td><td>  0  </td><td>  0  </td><td>   0 </td><td>  0  </td><td>   1 </td><td>  0  </td><td>  0  </td><td>  0  </td><td>  0  </td><td>  0  </td><td>  0  </td><td>  0  </td><td>  0  </td><td>0    </td><td>    2</td></tr>\n",
       "\t<tr><th scope=row>33</th><td>   1 </td><td>   0 </td><td>  0  </td><td>  0  </td><td>  0  </td><td>   1 </td><td>  0  </td><td>   0 </td><td>  0  </td><td>  0  </td><td>  0  </td><td>  0  </td><td>  0  </td><td>  0  </td><td>  0  </td><td>  0  </td><td>0    </td><td>    2</td></tr>\n",
       "\t<tr><th scope=row>34</th><td>   0 </td><td>   0 </td><td>  0  </td><td>  0  </td><td>  0  </td><td>   0 </td><td>  1  </td><td>   0 </td><td>  0  </td><td>  0  </td><td>  0  </td><td>  0  </td><td>  0  </td><td>  0  </td><td>  0  </td><td>  0  </td><td>0    </td><td>    1</td></tr>\n",
       "\t<tr><th scope=row>37</th><td>   1 </td><td>   0 </td><td>  0  </td><td>  0  </td><td>  0  </td><td>   2 </td><td>  1  </td><td>   1 </td><td>  0  </td><td>  0  </td><td>  0  </td><td>  9  </td><td>  3  </td><td>  1  </td><td>  1  </td><td>  0  </td><td>0    </td><td>   19</td></tr>\n",
       "\t<tr><th scope=row>38</th><td>   0 </td><td>   0 </td><td>  0  </td><td>  0  </td><td>  0  </td><td>   1 </td><td>  0  </td><td>   0 </td><td>  0  </td><td>  0  </td><td>  0  </td><td>  0  </td><td>  0  </td><td>  0  </td><td>  0  </td><td>  0  </td><td>0    </td><td>    1</td></tr>\n",
       "\t<tr><th scope=row>43</th><td>   0 </td><td>   3 </td><td>  0  </td><td>  1  </td><td>  1  </td><td>   0 </td><td>  0  </td><td>   1 </td><td>  0  </td><td>  0  </td><td>  1  </td><td>  0  </td><td>  1  </td><td>  0  </td><td>  0  </td><td>  0  </td><td>0    </td><td>    8</td></tr>\n",
       "\t<tr><th scope=row>49</th><td>   1 </td><td>   0 </td><td>  0  </td><td>  0  </td><td>  0  </td><td>   0 </td><td>  1  </td><td>   0 </td><td>  0  </td><td>  0  </td><td>  0  </td><td>  3  </td><td>  0  </td><td>  0  </td><td>  0  </td><td>  2  </td><td>0    </td><td>    7</td></tr>\n",
       "\t<tr><th scope=row>65</th><td>   1 </td><td>   0 </td><td>  0  </td><td>  0  </td><td>  0  </td><td>   0 </td><td>  0  </td><td>   0 </td><td>  0  </td><td>  0  </td><td>  0  </td><td>  0  </td><td>  0  </td><td>  0  </td><td>  0  </td><td>  0  </td><td>0    </td><td>    1</td></tr>\n",
       "\t<tr><th scope=row>Sum</th><td>1955 </td><td>1101 </td><td>507  </td><td>891  </td><td>457  </td><td>1301 </td><td>809  </td><td>1285 </td><td>588  </td><td>945  </td><td>491  </td><td>839  </td><td>330  </td><td>665  </td><td>281  </td><td>146  </td><td>3    </td><td>12594</td></tr>\n",
       "</tbody>\n",
       "</table>\n"
      ],
      "text/latex": [
       "\\begin{tabular}{r|llllllllllllllllll}\n",
       "  & BL & SC & V01 & V02 & V03 & V04 & V05 & V06 & V07 & V08 & V09 & V10 & V11 & V12 & V13 & V14 & V15 & Sum\\\\\n",
       "\\hline\n",
       "\t0 &  420  &    0  &   0   &   3   &   4   &  557  &  19   &  644  &   2   & 593   &   2   & 558   &   0   & 478   & 266   &  91   & 2     &  3639\\\\\n",
       "\t1 &    2  &    0  &   0   &   0   &   0   &    0  &   0   &    5  &   0   &   1   &   0   &   2   &   0   &   4   &   0   &   4   & 0     &    18\\\\\n",
       "\t2 & 1468  & 1088  & 501   & 845   & 435   &  726  & 768   &  607  & 570   & 337   & 472   & 256   & 321   & 179   &  14   &  48   & 1     &  8636\\\\\n",
       "\t3 &    2  &    3  &   0   &   1   &   2   &    2  &   1   &    1  &   3   &   0   &   3   &   0   &   1   &   3   &   0   &   0   & 0     &    22\\\\\n",
       "\t4 &    0  &    1  &   2   &   0   &   0   &    2  &   2   &    4  &   2   &   1   &   3   &   2   &   0   &   0   &   0   &   0   & 0     &    19\\\\\n",
       "\t5 &    1  &    0  &   0   &   2   &   0   &    1  &   0   &    1  &   3   &   0   &   2   &   0   &   0   &   0   &   0   &   0   & 0     &    10\\\\\n",
       "\t6 &   52  &    0  &   1   &   0   &   0   &    7  &   0   &   16  &   0   &   9   &   1   &   6   &   0   &   0   &   0   &   0   & 0     &    92\\\\\n",
       "\t7 &    0  &    1  &   0   &   0   &   0   &    0  &   0   &    1  &   0   &   1   &   1   &   0   &   2   &   0   &   0   &   0   & 0     &     6\\\\\n",
       "\t8 &    1  &    2  &   2   &  38   &  14   &    1  &  14   &    0  &   7   &   0   &   6   &   0   &   2   &   0   &   0   &   0   & 0     &    87\\\\\n",
       "\t9 &    0  &    0  &   0   &   1   &   0   &    0  &   0   &    2  &   0   &   2   &   0   &   0   &   0   &   0   &   0   &   0   & 0     &     5\\\\\n",
       "\t10 &    0  &    0  &   0   &   0   &   0   &    0  &   0   &    0  &   1   &   0   &   0   &   0   &   0   &   0   &   0   &   0   & 0     &     1\\\\\n",
       "\t12 &    1  &    0  &   0   &   0   &   0   &    0  &   0   &    0  &   0   &   0   &   0   &   0   &   0   &   0   &   0   &   0   & 0     &     1\\\\\n",
       "\t14 &    0  &    0  &   0   &   0   &   0   &    1  &   0   &    0  &   0   &   0   &   0   &   0   &   0   &   0   &   0   &   0   & 0     &     1\\\\\n",
       "\t15 &    2  &    0  &   0   &   0   &   0   &    0  &   1   &    0  &   0   &   0   &   0   &   0   &   0   &   0   &   0   &   0   & 0     &     3\\\\\n",
       "\t20 &    0  &    0  &   0   &   0   &   0   &    0  &   0   &    0  &   0   &   0   &   0   &   2   &   0   &   0   &   0   &   0   & 0     &     2\\\\\n",
       "\t22 &    1  &    2  &   1   &   0   &   1   &    0  &   0   &    1  &   0   &   1   &   0   &   0   &   0   &   0   &   0   &   1   & 0     &     8\\\\\n",
       "\t28 &    0  &    1  &   0   &   0   &   0   &    0  &   1   &    0  &   0   &   0   &   0   &   1   &   0   &   0   &   0   &   0   & 0     &     3\\\\\n",
       "\t32 &    1  &    0  &   0   &   0   &   0   &    0  &   0   &    1  &   0   &   0   &   0   &   0   &   0   &   0   &   0   &   0   & 0     &     2\\\\\n",
       "\t33 &    1  &    0  &   0   &   0   &   0   &    1  &   0   &    0  &   0   &   0   &   0   &   0   &   0   &   0   &   0   &   0   & 0     &     2\\\\\n",
       "\t34 &    0  &    0  &   0   &   0   &   0   &    0  &   1   &    0  &   0   &   0   &   0   &   0   &   0   &   0   &   0   &   0   & 0     &     1\\\\\n",
       "\t37 &    1  &    0  &   0   &   0   &   0   &    2  &   1   &    1  &   0   &   0   &   0   &   9   &   3   &   1   &   1   &   0   & 0     &    19\\\\\n",
       "\t38 &    0  &    0  &   0   &   0   &   0   &    1  &   0   &    0  &   0   &   0   &   0   &   0   &   0   &   0   &   0   &   0   & 0     &     1\\\\\n",
       "\t43 &    0  &    3  &   0   &   1   &   1   &    0  &   0   &    1  &   0   &   0   &   1   &   0   &   1   &   0   &   0   &   0   & 0     &     8\\\\\n",
       "\t49 &    1  &    0  &   0   &   0   &   0   &    0  &   1   &    0  &   0   &   0   &   0   &   3   &   0   &   0   &   0   &   2   & 0     &     7\\\\\n",
       "\t65 &    1  &    0  &   0   &   0   &   0   &    0  &   0   &    0  &   0   &   0   &   0   &   0   &   0   &   0   &   0   &   0   & 0     &     1\\\\\n",
       "\tSum & 1955  & 1101  & 507   & 891   & 457   & 1301  & 809   & 1285  & 588   & 945   & 491   & 839   & 330   & 665   & 281   & 146   & 3     & 12594\\\\\n",
       "\\end{tabular}\n"
      ],
      "text/markdown": [
       "\n",
       "| <!--/--> | BL | SC | V01 | V02 | V03 | V04 | V05 | V06 | V07 | V08 | V09 | V10 | V11 | V12 | V13 | V14 | V15 | Sum | \n",
       "|---|---|---|---|---|---|---|---|---|---|---|---|---|---|---|---|---|---|---|---|---|---|---|---|---|---|\n",
       "| 0 |  420  |    0  |   0   |   3   |   4   |  557  |  19   |  644  |   2   | 593   |   2   | 558   |   0   | 478   | 266   |  91   | 2     |  3639 | \n",
       "| 1 |    2  |    0  |   0   |   0   |   0   |    0  |   0   |    5  |   0   |   1   |   0   |   2   |   0   |   4   |   0   |   4   | 0     |    18 | \n",
       "| 2 | 1468  | 1088  | 501   | 845   | 435   |  726  | 768   |  607  | 570   | 337   | 472   | 256   | 321   | 179   |  14   |  48   | 1     |  8636 | \n",
       "| 3 |    2  |    3  |   0   |   1   |   2   |    2  |   1   |    1  |   3   |   0   |   3   |   0   |   1   |   3   |   0   |   0   | 0     |    22 | \n",
       "| 4 |    0  |    1  |   2   |   0   |   0   |    2  |   2   |    4  |   2   |   1   |   3   |   2   |   0   |   0   |   0   |   0   | 0     |    19 | \n",
       "| 5 |    1  |    0  |   0   |   2   |   0   |    1  |   0   |    1  |   3   |   0   |   2   |   0   |   0   |   0   |   0   |   0   | 0     |    10 | \n",
       "| 6 |   52  |    0  |   1   |   0   |   0   |    7  |   0   |   16  |   0   |   9   |   1   |   6   |   0   |   0   |   0   |   0   | 0     |    92 | \n",
       "| 7 |    0  |    1  |   0   |   0   |   0   |    0  |   0   |    1  |   0   |   1   |   1   |   0   |   2   |   0   |   0   |   0   | 0     |     6 | \n",
       "| 8 |    1  |    2  |   2   |  38   |  14   |    1  |  14   |    0  |   7   |   0   |   6   |   0   |   2   |   0   |   0   |   0   | 0     |    87 | \n",
       "| 9 |    0  |    0  |   0   |   1   |   0   |    0  |   0   |    2  |   0   |   2   |   0   |   0   |   0   |   0   |   0   |   0   | 0     |     5 | \n",
       "| 10 |    0  |    0  |   0   |   0   |   0   |    0  |   0   |    0  |   1   |   0   |   0   |   0   |   0   |   0   |   0   |   0   | 0     |     1 | \n",
       "| 12 |    1  |    0  |   0   |   0   |   0   |    0  |   0   |    0  |   0   |   0   |   0   |   0   |   0   |   0   |   0   |   0   | 0     |     1 | \n",
       "| 14 |    0  |    0  |   0   |   0   |   0   |    1  |   0   |    0  |   0   |   0   |   0   |   0   |   0   |   0   |   0   |   0   | 0     |     1 | \n",
       "| 15 |    2  |    0  |   0   |   0   |   0   |    0  |   1   |    0  |   0   |   0   |   0   |   0   |   0   |   0   |   0   |   0   | 0     |     3 | \n",
       "| 20 |    0  |    0  |   0   |   0   |   0   |    0  |   0   |    0  |   0   |   0   |   0   |   2   |   0   |   0   |   0   |   0   | 0     |     2 | \n",
       "| 22 |    1  |    2  |   1   |   0   |   1   |    0  |   0   |    1  |   0   |   1   |   0   |   0   |   0   |   0   |   0   |   1   | 0     |     8 | \n",
       "| 28 |    0  |    1  |   0   |   0   |   0   |    0  |   1   |    0  |   0   |   0   |   0   |   1   |   0   |   0   |   0   |   0   | 0     |     3 | \n",
       "| 32 |    1  |    0  |   0   |   0   |   0   |    0  |   0   |    1  |   0   |   0   |   0   |   0   |   0   |   0   |   0   |   0   | 0     |     2 | \n",
       "| 33 |    1  |    0  |   0   |   0   |   0   |    1  |   0   |    0  |   0   |   0   |   0   |   0   |   0   |   0   |   0   |   0   | 0     |     2 | \n",
       "| 34 |    0  |    0  |   0   |   0   |   0   |    0  |   1   |    0  |   0   |   0   |   0   |   0   |   0   |   0   |   0   |   0   | 0     |     1 | \n",
       "| 37 |    1  |    0  |   0   |   0   |   0   |    2  |   1   |    1  |   0   |   0   |   0   |   9   |   3   |   1   |   1   |   0   | 0     |    19 | \n",
       "| 38 |    0  |    0  |   0   |   0   |   0   |    1  |   0   |    0  |   0   |   0   |   0   |   0   |   0   |   0   |   0   |   0   | 0     |     1 | \n",
       "| 43 |    0  |    3  |   0   |   1   |   1   |    0  |   0   |    1  |   0   |   0   |   1   |   0   |   1   |   0   |   0   |   0   | 0     |     8 | \n",
       "| 49 |    1  |    0  |   0   |   0   |   0   |    0  |   1   |    0  |   0   |   0   |   0   |   3   |   0   |   0   |   0   |   2   | 0     |     7 | \n",
       "| 65 |    1  |    0  |   0   |   0   |   0   |    0  |   0   |    0  |   0   |   0   |   0   |   0   |   0   |   0   |   0   |   0   | 0     |     1 | \n",
       "| Sum | 1955  | 1101  | 507   | 891   | 457   | 1301  | 809   | 1285  | 588   | 945   | 491   | 839   | 330   | 665   | 281   | 146   | 3     | 12594 | \n",
       "\n",
       "\n"
      ],
      "text/plain": [
       "      EVENT_ID\n",
       "num_na BL   SC   V01 V02 V03 V04  V05 V06  V07 V08 V09 V10 V11 V12 V13 V14 V15 Sum  \n",
       "   0    420    0   0   3   4  557  19  644   2 593   2 558   0 478 266  91 2    3639\n",
       "   1      2    0   0   0   0    0   0    5   0   1   0   2   0   4   0   4 0      18\n",
       "   2   1468 1088 501 845 435  726 768  607 570 337 472 256 321 179  14  48 1    8636\n",
       "   3      2    3   0   1   2    2   1    1   3   0   3   0   1   3   0   0 0      22\n",
       "   4      0    1   2   0   0    2   2    4   2   1   3   2   0   0   0   0 0      19\n",
       "   5      1    0   0   2   0    1   0    1   3   0   2   0   0   0   0   0 0      10\n",
       "   6     52    0   1   0   0    7   0   16   0   9   1   6   0   0   0   0 0      92\n",
       "   7      0    1   0   0   0    0   0    1   0   1   1   0   2   0   0   0 0       6\n",
       "   8      1    2   2  38  14    1  14    0   7   0   6   0   2   0   0   0 0      87\n",
       "   9      0    0   0   1   0    0   0    2   0   2   0   0   0   0   0   0 0       5\n",
       "   10     0    0   0   0   0    0   0    0   1   0   0   0   0   0   0   0 0       1\n",
       "   12     1    0   0   0   0    0   0    0   0   0   0   0   0   0   0   0 0       1\n",
       "   14     0    0   0   0   0    1   0    0   0   0   0   0   0   0   0   0 0       1\n",
       "   15     2    0   0   0   0    0   1    0   0   0   0   0   0   0   0   0 0       3\n",
       "   20     0    0   0   0   0    0   0    0   0   0   0   2   0   0   0   0 0       2\n",
       "   22     1    2   1   0   1    0   0    1   0   1   0   0   0   0   0   1 0       8\n",
       "   28     0    1   0   0   0    0   1    0   0   0   0   1   0   0   0   0 0       3\n",
       "   32     1    0   0   0   0    0   0    1   0   0   0   0   0   0   0   0 0       2\n",
       "   33     1    0   0   0   0    1   0    0   0   0   0   0   0   0   0   0 0       2\n",
       "   34     0    0   0   0   0    0   1    0   0   0   0   0   0   0   0   0 0       1\n",
       "   37     1    0   0   0   0    2   1    1   0   0   0   9   3   1   1   0 0      19\n",
       "   38     0    0   0   0   0    1   0    0   0   0   0   0   0   0   0   0 0       1\n",
       "   43     0    3   0   1   1    0   0    1   0   0   1   0   1   0   0   0 0       8\n",
       "   49     1    0   0   0   0    0   1    0   0   0   0   3   0   0   0   2 0       7\n",
       "   65     1    0   0   0   0    0   0    0   0   0   0   0   0   0   0   0 0       1\n",
       "   Sum 1955 1101 507 891 457 1301 809 1285 588 945 491 839 330 665 281 146 3   12594"
      ]
     },
     "metadata": {},
     "output_type": "display_data"
    },
    {
     "name": "stdout",
     "output_type": "stream",
     "text": [
      "Also save this processed version of UPDRS"
     ]
    }
   ],
   "source": [
    "UPDRS %>% write.csv(., paste(OUTPUT, \"UPDRS.csv\", sep='/'), row.names = F)\n",
    "UPDRS %>% filter(EVENT_ID %in% Visits) %>% with(table(num_na, EVENT_ID)) %>% addmargins(.)\n",
    "cat(\"The index numbers correspond to the number of missing values in UPDRS items + HY + MEDTIME + ON. \n",
    "2: missing MEDTIME and ON.\n",
    "8: missing UPDRS4\n",
    "Note UPDRS4 is only eveluated after PD medication initiation.\n",
    "Check how many UPDRS4 are missing per visit X PDMED\\n\")\n",
    "cat(\"Following data replacement is conducted.\n",
    "PDMED==0 or 3, -> NA in UPDRS4 items are replaced with 0\")\n",
    "UPDRS %>% filter(is.na(NP4WDYSK)) %>% with(table(EVENT_ID, PDMED))\n",
    "UPDRS_processed = UPDRS %>% mutate_at(vars(items_NP4), funs(ifelse(PDMED %in% c(0,3), replace_na(., 0), .))) %>%\n",
    "    select(-num_na) %>%\n",
    "    mutate(num_na = rowSums(is.na(.))) # Count the missing obs per visit\n",
    "UPDRS_processed %>% filter(EVENT_ID %in% Visits) %>% with(table(num_na, EVENT_ID)) %>% addmargins(.)\n",
    "cat(\"Also save this processed version of UPDRS\")\n",
    "UPDRS_processed %>% select(-num_na) %>% write.csv(., paste(OUTPUT, \"UPDRS_4NAreplaced.csv\", sep=\"/\"))"
   ]
  },
  {
   "cell_type": "markdown",
   "metadata": {},
   "source": [
    "# Current maximum UPDRS scores and plotting"
   ]
  },
  {
   "cell_type": "code",
   "execution_count": 26,
   "metadata": {},
   "outputs": [
    {
     "name": "stdout",
     "output_type": "stream",
     "text": [
      "Create UPDRS_max dataset, which is the current maxium of each item from the baseline to the obs timepoint.(Only uses ordinally visits)"
     ]
    }
   ],
   "source": [
    "cat(\"Create UPDRS_max dataset, which is the current maxium of each item from the baseline to the obs timepoint.(Only uses ordinally visits)\")\n",
    "takemaxUPDRS_function = function(data, vars){\n",
    "  FILTERED = data %>% filter(!is.na(Vord)) %>% group_by(PATNO, Vord) %>% mutate(id = row_number()) %>% \n",
    "    ungroup %>% arrange(PATNO, Vord, id)\n",
    "  DATA = FILTERED %>% select(PATNO, vars)\n",
    "  for (i in 2:nrow(DATA)){\n",
    "    if(DATA$PATNO[i-1]==DATA$PATNO[i]){\n",
    "      for (p in 2:ncol(DATA)){\n",
    "        if(is.na(DATA[i-1,p])){next}\n",
    "        if(is.na(DATA[i  ,p])){DATA[i, p]=DATA[i-1, p]\n",
    "        }else if(DATA[i, p]<DATA[(i-1),p]){\n",
    "          DATA[i,p] = DATA[(i-1),p]\n",
    "        }\n",
    "      }\n",
    "    }\n",
    "  }\n",
    "  ans = FILTERED %>% select(-one_of(c(\"PATNO\", vars))) %>% cbind(., DATA) %>% arrange(PATNO, Vord, desc(id)) %>%\n",
    "    distinct(PATNO, Vord, .keep_all = T) %>% select(-id)\n",
    "  return(ans)\n",
    "}\n",
    "\n",
    "UPDRS_max = takemaxUPDRS_function(UPDRS_processed, items)\n",
    "write.csv(UPDRS_max, paste(OUTPUT, \"UPDRSmax.csv\", sep=\"/\"),row.names=F)"
   ]
  },
  {
   "cell_type": "markdown",
   "metadata": {},
   "source": [
    "# Plot chronological trajectory of each person"
   ]
  },
  {
   "cell_type": "code",
   "execution_count": 35,
   "metadata": {
    "scrolled": false
   },
   "outputs": [],
   "source": [
    "UPDRS_pd = semi_join(UPDRS_processed, dxPD, by = \"PATNO\") %>% filter(!is.na(Vord)) %>% \n",
    "    mutate(UPDRS1 = rowSums(.[,items_NP1]),\n",
    "       UPDRS2 = rowSums(.[,items_NP2]),\n",
    "       UPDRS3 = rowSums(.[,items_NP3]),\n",
    "       UPDRS4 = rowSums(.[,items_NP4])) %>% \n",
    "    arrange(PATNO, Vord, UPDRS3) %>%\n",
    "    group_by(PATNO) %>% \n",
    "    mutate(TSTART = DATE - first(DATE)) %>% ungroup \n",
    "UPDRS_pd_max = semi_join(UPDRS_max, dxPD, by=\"PATNO\") %>% filter(!is.na(Vord)) %>%\n",
    "  mutate(UPDRS1 = rowSums(.[,items_NP1]),\n",
    "       UPDRS2 = rowSums(.[,items_NP2]),\n",
    "       UPDRS3 = rowSums(.[,items_NP3]),\n",
    "       UPDRS4 = rowSums(.[,items_NP4])) %>%\n",
    "    arrange(PATNO, Vord, UPDRS3) %>%\n",
    "    group_by(PATNO) %>% \n",
    "    mutate(TSTART = DATE - first(DATE)) %>% ungroup "
   ]
  },
  {
   "cell_type": "code",
   "execution_count": 49,
   "metadata": {
    "scrolled": false
   },
   "outputs": [
    {
     "name": "stderr",
     "output_type": "stream",
     "text": [
      "Warning message:\n",
      "\"Column `PATNO` joining character vector and factor, coercing into character vector\""
     ]
    },
    {
     "data": {},
     "metadata": {},
     "output_type": "display_data"
    },
    {
     "data": {
      "image/png": "[encoded data removed]",
      "text/plain": [
       "plot without title"
      ]
     },
     "metadata": {},
     "output_type": "display_data"
    }
   ],
   "source": [
    "IDs = UPDRS_pd %>% filter(Vord>9) %>% distinct(PATNO) %>% t %>% as.vector %>% sample(., 4)\n",
    "timeplot_func = function(DATA, ITEM,  IDs){\n",
    "    ID_jit = data.frame(PATNO=IDs) %>% \n",
    "        mutate(j=runif(nrow(.), -0.3, 0.3))\n",
    "    DATA %>% \n",
    "      filter(PATNO %in% IDs) %>% filter(Vord %%1==0) %>%\n",
    "      mutate(OUTCOME=eval(parse(text = ITEM))) %>% \n",
    "      select(PATNO, TSTART, OUTCOME, DRT_ON) %>% \n",
    "      left_join(., ID_jit, by=\"PATNO\") %>% \n",
    "      mutate(OUTCOME = OUTCOME + j) %>% \n",
    "      filter(!(is.na(OUTCOME) & !is.na(TSTART))) %>%\n",
    "      arrange(PATNO, TSTART, OUTCOME) %>% \n",
    "      ggplot + \n",
    "#       aes(TSTART, OUTCOME, colour=DRT_ON==\"NonUser\") + ylim(0, 80)+\n",
    "      aes(TSTART, OUTCOME, colour=DRT_ON==\"NonUser\") + ylim(0, 60)+\n",
    "      geom_line(aes(group=PATNO)) + geom_point()\n",
    "}\n",
    "timeplot_func(UPDRS_pd_max, \"UPDRS3\", IDs)\n",
    "timeplot_func(UPDRS_pd, \"UPDRS3\", IDs)"
   ]
  }
 ],
 "metadata": {
  "kernelspec": {
   "display_name": "R",
   "language": "R",
   "name": "ir"
  },
  "language_info": {
   "codemirror_mode": "r",
   "file_extension": ".r",
   "mimetype": "text/x-r-source",
   "name": "R",
   "pygments_lexer": "r",
   "version": "3.5.0"
  }
 },
 "nbformat": 4,
 "nbformat_minor": 2
}
