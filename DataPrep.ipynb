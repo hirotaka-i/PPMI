{
 "cells": [
  {
   "cell_type": "markdown",
   "metadata": {},
   "source": [
    "# PPMI data preparation script\n",
    "\n",
    "2018-09-10 Hirotaka Iwaki\n",
    "\n",
    "Before staring the analysis, Donwnload data from PPMI LONI site.\n",
    "\n",
    "**steps**\n",
    "1. Create 1-1 matching table for Event ID and DATE of each participant.     \n",
    "(DATEs in the original data are available as YYYY/MM. DATE will be converted to the numeric number from 1970/01/01 to YYYY/MM/01\n",
    "2. Pull PD diagnosis information    \n",
    "In the form of CurrentEnrollmentStatus_LatestDiagnosis_ChangeInDiagnosis_ImagingConfirmation_Comments    \n",
    "e.g. In__CBD_convsn_YsImg_PPMI or In__iPD_stable_YsImg_LRRK2+"
   ]
  },
  {
   "cell_type": "code",
   "execution_count": 15,
   "metadata": {},
   "outputs": [
    {
     "name": "stderr",
     "output_type": "stream",
     "text": [
      "Warning message in dir.create(OUTPUT):\n",
      "\"'out181018' already exists\""
     ]
    }
   ],
   "source": [
    "# Setting\n",
    "library(data.table)\n",
    "library(dplyr)\n",
    "FOLDER = c(\"download181018\")\n",
    "OUTPUT = c(\"out181018\")\n",
    "options(\"width\"=110)\n",
    "dir.create(OUTPUT)"
   ]
  },
  {
   "cell_type": "markdown",
   "metadata": {},
   "source": [
    "## Step 1 PATNO-EVENT-DATE matching table"
   ]
  },
  {
   "cell_type": "code",
   "execution_count": 4,
   "metadata": {},
   "outputs": [
    {
     "name": "stdout",
     "output_type": "stream",
     "text": [
      "Populate DATE and EVENT_ID from all the available files.\n",
      "\n",
      "Skip 'Signature_Form.csv' because it contains many EVENT_ID which are not seen in other files.\n",
      "Additionally, the following files will be skipped because they don't contain PATNO in the file;\n",
      " AV-133_SBR_Results.csv , Code_List.csv , Data_Dictionary.csv , Derived_Variable_Definitions_and_Score_Calculations.csv , FOUND_RFQ_Alcohol.csv , FOUND_RFQ_Anti-Inflammatory_Meds.csv , FOUND_RFQ_Caffeine.csv , FOUND_RFQ_Calcium_Channel_Blockers.csv , FOUND_RFQ_Female_Reproductive_Health.csv , FOUND_RFQ_Head_Injury.csv , FOUND_RFQ_Height___Weight.csv , FOUND_RFQ_Occupation.csv , FOUND_RFQ_Pesticides_Non-Work.csv , FOUND_RFQ_Pesticides_at_Work.csv , FOUND_RFQ_Physical_Activity.csv , FOUND_RFQ_Residential_History.csv , FOUND_RFQ_Smoking_History.csv , FOUND_RFQ_Toxicant_History.csv , IUSM_BIOSPECIMEN_CELL_CATALOG.csv , IUSM_CATALOG.csv , MRI_Imaging_Data_Transfer_Information_Source_Document.csv , Olfactory_UPSIT.csv , Page_Descriptions.csv , SPECT_Scan_Information_Source_Document.csv , \n",
      " \n",
      " \n",
      " Check how consistent the EVENT_ID-DATEs are. \n",
      "Calculate P: the probability of a certain event of individual recorded as such a date\n",
      "\n",
      "\n",
      "List of files that contains only 1 event for any participant across all files. Numbers are such obs in the file."
     ]
    },
    {
     "data": {
      "text/plain": [
       "                                       \n",
       "FILE                                    TRUE\n",
       "  AV-133_Imaging.csv                       3\n",
       "  Conclusion_of_Study_Participation.csv  372\n",
       "  Contact_Information_Brain_Bank.csv     290\n",
       "  Contact_Information_FOUND.csv           12\n",
       "  DNA_Sample_Collection.csv                2\n",
       "  DaTscan_Imaging.csv                     42\n",
       "  Features_of_REM_Behavior_Disorder.csv    5\n",
       "  Florbetaben_Eligibility.csv             14\n",
       "  Gait_Data___Arm_swing.csv                1\n",
       "  General_Medical_History.csv              5\n",
       "  Genetic_Testing_Results.csv           1131\n",
       "  Lumbar_Puncture_Sample_Collection.csv    5\n",
       "  Magnetic_Resonance_Imaging.csv           3\n",
       "  Primary_Diagnosis.csv                    1\n",
       "  Research_Advance_Directive.csv           1\n",
       "  Surgery_for_Parkinson_Disease.csv        7\n",
       "  TAP-PD_Conclusion.csv                   12\n",
       "  TAP-PD_OPDM_Assessment.csv               1\n",
       "  TAP-PD_Subject_Eligibility.csv           3\n",
       "  Use_of_PD_Medication.csv                 2\n",
       "  Vital_Signs.csv                          2\n",
       "  iPSC_Blood_Sample.csv                   45"
      ]
     },
     "metadata": {},
     "output_type": "display_data"
    },
    {
     "name": "stdout",
     "output_type": "stream",
     "text": [
      "\n",
      " 1558 observations have different DATEs for the same EVENT_ID.\n",
      "For these events, take the most frequent DATE\n",
      "For 4 observations, the most freqent DATE of the EVENT_ID is 0.5,\n",
      "DATEs of those EVENT_IDs will be determined by the order of the filenames (because we cannot determine which is true).\n",
      "\n",
      "Next, check the chronological order of EVENT_ID. \n",
      "EVENT_ID of schduled site visits and telephone visits are used to detect inconsistency.\n",
      "\n",
      "Among 15393 obs, 2  will be deleted because chronological order is inconsitent\n",
      "After exclude these obs, check chronological orders again.\n",
      " 0 : Number of obs still problematic. 0 is expected.\n",
      " 0 : Number of obs still problematic. 0 is expected.\n",
      "Save PATNO_EVENT_DATE matching file"
     ]
    }
   ],
   "source": [
    "cat(\"Populate DATE and EVENT_ID from all the available files.\\n\n",
    "Skip 'Signature_Form.csv' because it contains many EVENT_ID which are not seen in other files.\n",
    "Additionally, the following files will be skipped because they don't contain PATNO in the file;\\n \")\n",
    "FILES = dir(path = FOLDER, full.names = F, recursive = T)\n",
    "TEMP=c()\n",
    "for (i in 1:length(FILES)){\n",
    "  if(FILES[i]==\"Signature_Form.csv\"){next} \n",
    "  CHECK = fread(paste(FOLDER, FILES[i], sep=\"/\"))\n",
    "  if(length(grep(\"^PATNO$\", names(CHECK)))==0){cat(FILES[i], \", \");next}\n",
    "  TEMP1 = fread(paste(FOLDER, FILES[i], sep=\"/\"), na.strings = '', header = T, quote=\"\\\"\", \n",
    "                colClasses = c(\"PATNO\"=\"character\")) \n",
    "  if(length(grep(\"^EVENT_ID$|^INFODT$\", names(TEMP1)))==2){\n",
    "    TEMP2 = TEMP1 %>% select(PATNO, EVENT_ID, INFODT) %>% \n",
    "      mutate(DATE = as.numeric(as.Date(paste(\"01\", INFODT, sep=\"/\"), format=\"%d/%m/%Y\"))) %>% # pad 01 and cal days from 1970-01-01\n",
    "      arrange(DATE) %>% \n",
    "      distinct(PATNO, EVENT_ID, .keep_all = T) %>%\n",
    "      .[complete.cases(.),]%>% \n",
    "      select(PATNO, EVENT_ID, DATE) %>% mutate(FILE = FILES[i]) %>% data.frame\n",
    "    if(!exists(\"TEMP\")){TEMP=TEMP2}else{\n",
    "      TEMP = bind_rows(TEMP, TEMP2)\n",
    "    }\n",
    "  }else{next}\n",
    "}\n",
    "\n",
    "\n",
    "cat(\"\\n \\n \\n Check how consistent the EVENT_ID-DATEs are. \n",
    "Calculate P: the probability of a certain event of individual recorded as such a date\\n\")\n",
    "temp = TEMP %>% arrange(DATE) %>% \n",
    "  group_by(PATNO, EVENT_ID) %>% mutate(NUM_E = n()) %>% data.frame %>%  \n",
    "  group_by(PATNO, EVENT_ID, DATE) %>% mutate(NUM_E_D = n()) %>% data.frame %>% \n",
    "  mutate(P = NUM_E_D / NUM_E) %>% \n",
    "  distinct(PATNO, EVENT_ID, NUM_E_D, .keep_all = T) %>%\n",
    "  arrange(PATNO, DATE) \n",
    "\n",
    "cat(\"\\n\\nList of files that contains only 1 event for any participant across all files. Numbers are such obs in the file.\")\n",
    "temp %>%  filter(NUM_E == 1) %>% with(table(FILE, NUM_E==1))\n",
    "temp %>% filter(P<1) %>% nrow %>% cat(\"\\n\", ., \"observations have different DATEs for the same EVENT_ID.\n",
    "For these events, take the most frequent DATE\")\n",
    "temp2 = temp %>% arrange(PATNO, EVENT_ID, desc(P)) %>% distinct(PATNO, EVENT_ID, .keep_all = T) \n",
    "temp2 %>% filter(P == 0.5) %>% nrow %>% cat(\"\\nFor\", ., \"observations, the most freqent DATE of the EVENT_ID is 0.5,\n",
    "DATEs of those EVENT_IDs will be determined by the order of the filenames (because we cannot determine which is true).\\n\n",
    "Next, check the chronological order of EVENT_ID. \n",
    "EVENT_ID of schduled site visits and telephone visits are used to detect inconsistency.\\n\")\n",
    "\n",
    "# Code to see the names of EVENT_IDs\n",
    "# unique(temp$EVENT_ID) %>% .[-grep(\"^T\", .)] %>% paste(., collapse = '\",\"')\n",
    "\n",
    "Visits = c(\"SC\", \"BL\", sprintf(\"%s%02d\", \"V\", 1:20))\n",
    "TVisits= c(\"TSC\", \"TBL\", sprintf(\"%s%02d\", \"T\", 1:99))\n",
    "temp3.1 = temp2 %>% \n",
    "  filter(EVENT_ID %in% Visits) %>% \n",
    "  mutate(V = factor(EVENT_ID, levels = Visits)) %>% \n",
    "  arrange(PATNO, V) %>% \n",
    "  group_by(PATNO) %>% \n",
    "  mutate(DATEbef = lag(DATE, default = first(DATE)),\n",
    "         DATEaft = lead(DATE, default = last(DATE))) %>% \n",
    "  data.frame %>% filter(DATE < DATEbef | DATE > DATEaft ) %>% select(-\"V\")\n",
    "temp3.2 = temp2 %>% \n",
    "  filter(EVENT_ID %in% TVisits) %>% \n",
    "  mutate(V = factor(EVENT_ID, levels = TVisits)) %>% \n",
    "  arrange(PATNO, V) %>% \n",
    "  group_by(PATNO) %>% \n",
    "  mutate(DATEbef = lag(DATE, default = first(DATE)),\n",
    "         DATEaft = lead(DATE, default = last(DATE))) %>% \n",
    "  data.frame %>% filter(DATE < DATEbef | DATE > DATEaft ) %>% select(-\"V\")\n",
    "temp3 = bind_rows(temp3.1, temp3.2) # the list of not chronologially consistent events\n",
    "nrow(temp2) %>% cat(\"\\nAmong\", ., \"obs, \")\n",
    "nrow(temp3) %>% cat(., \" will be deleted because chronological order is inconsitent\")\n",
    "temp4 = anti_join(temp2, temp3, by=c(\"PATNO\", \"EVENT_ID\"))\n",
    "cat(\"\\nAfter exclude these obs, check chronological orders again.\")\n",
    "temp4 %>% \n",
    "  filter(EVENT_ID %in% Visits) %>% \n",
    "  mutate(V = factor(EVENT_ID, levels = Visits)) %>% \n",
    "  arrange(PATNO, V) %>% \n",
    "  group_by(PATNO) %>% \n",
    "  mutate(DATEdiff = DATE - lag(DATE, default = first(DATE))) %>% \n",
    "  data.frame %>% filter(DATEdiff<0) %>% select(-\"V\") %>% nrow %>%\n",
    "  cat(\"\\n\",., \": Number of obs still problematic. 0 is expected.\" )\n",
    "temp4 %>% \n",
    "  filter(EVENT_ID %in% TVisits) %>% \n",
    "  mutate(V = factor(EVENT_ID, levels = TVisits)) %>% \n",
    "  arrange(PATNO, V) %>% \n",
    "  group_by(PATNO) %>% \n",
    "  mutate(DATEdiff = DATE - lag(DATE, default = first(DATE))) %>% \n",
    "  data.frame %>% filter(DATEdiff<0) %>% select(-\"V\")%>% nrow %>%\n",
    "  cat(\"\\n\",., \": Number of obs still problematic. 0 is expected.\" )\n",
    "cat(\"\\nSave PATNO_EVENT_DATE matching file\")\n",
    "EDtable = temp4 %>% select(PATNO, EVENT_ID, DATE)\n",
    "write.csv(EDtable, paste(OUTPUT, \"PATNO_EVENTID_DATE.csv\", sep=\"/\"), row.names=F)"
   ]
  },
  {
   "cell_type": "markdown",
   "metadata": {},
   "source": [
    "## Step 2 PD diagnosis"
   ]
  },
  {
   "cell_type": "code",
   "execution_count": 5,
   "metadata": {},
   "outputs": [
    {
     "name": "stdout",
     "output_type": "stream",
     "text": [
      "Pull information from 'Patient_Status.csv'\n",
      "Note: ENROLL_CAT was only given who had enrolled. For those who had not, give RECRUITMENT_CAT instead. The variable named RECRUIT.\n",
      "\n",
      "Check ENROLL_STATUS by contingency table. \n",
      "Note:If dup > 1 it indiates duplicated IDs in the file and need to be checked.\n"
     ]
    },
    {
     "data": {
      "text/plain": [
       "      ENROLL_STATUS\n",
       "dup    Declined Enrolled Excluded Pending Withdrew <NA>\n",
       "  1         111     1685      201      19      131    0\n",
       "  <NA>        0        0        0       0        0    0"
      ]
     },
     "metadata": {},
     "output_type": "display_data"
    },
    {
     "name": "stdout",
     "output_type": "stream",
     "text": [
      "\n",
      "Contingency table for cohorts and image results. RECRUIT=PD has those with SWEDD image. Most people in GEN has image but not those in REG"
     ]
    },
    {
     "data": {
      "text/plain": [
       "          IMG\n",
       "RECRUIT    GENPD GENUN  HC  PD PRODROMA REGPD REGUN SWEDD no image <NA>\n",
       "  GENPD      210     0   0   0        0     0     0     0       61    0\n",
       "  GENUN        0   342   0   0        0     0     0     0       25    0\n",
       "  HC           0     0 241   0        0     0     0     0        0    0\n",
       "  PD           0     0   0 450        0     0     0    17       39    0\n",
       "  PRODROMA     0     0   0   0      194     0     0     0       22    0\n",
       "  REGPD        0     0   0   0        0     4     0     0      209    0\n",
       "  REGUN        0     0   0   0        0     0     1     0      268    0\n",
       "  SWEDD        0     0   0   0        0     0     0    62        2    0\n",
       "  <NA>         0     0   0   0        0     0     0     0        0    0"
      ]
     },
     "metadata": {},
     "output_type": "display_data"
    },
    {
     "name": "stdout",
     "output_type": "stream",
     "text": [
      "\n",
      "Contingency table for RECRUIT cohort and Subcategories. RECRUIT=PRODROMA has HYP and RBD. RECRUIT=GEN/REG have genetics information\n",
      "Sub-category is blank for PD/HC/SWEDD"
     ]
    },
    {
     "data": {
      "text/plain": [
       "          SUBCAT\n",
       "RECRUIT        GBA+ GBA- HYP LRRK2+ LRRK2- RBD SNCA+ SNCA- <NA>\n",
       "  GENPD      0   83    0   0    165      0   0    23     0    0\n",
       "  GENUN      0  151    1   0    206      2   0     7     0    0\n",
       "  HC       241    0    0   0      0      0   0     0     0    0\n",
       "  PD       506    0    0   0      0      0   0     0     0    0\n",
       "  PRODROMA   1    0    0 119      0      0  96     0     0    0\n",
       "  REGPD      0   52    0   0    156      0   0     5     0    0\n",
       "  REGUN      0  102    2   0    144     12   0     7     2    0\n",
       "  SWEDD     64    0    0   0      0      0   0     0     0    0\n",
       "  <NA>       0    0    0   0      0      0   0     0     0    0"
      ]
     },
     "metadata": {},
     "output_type": "display_data"
    }
   ],
   "source": [
    "cat(\"Pull information from 'Patient_Status.csv'\n",
    "Note: ENROLL_CAT was only given who had enrolled. For those who had not, give RECRUITMENT_CAT instead. The variable named RECRUIT.\\n\\n\")\n",
    "temp = fread(paste(FOLDER, 'Patient_Status.csv', sep='/'), \n",
    "                 colClasses = c(\"PATNO\"=\"character\")) %>%\n",
    "  mutate(RECRUIT = ifelse(is.na(ENROLL_CAT) | ENROLL_CAT==\"\", RECRUITMENT_CAT, ENROLL_CAT),\n",
    "         IMG = IMAGING_CAT,\n",
    "         SUBCAT = DESCRP_CAT) %>% \n",
    "  select(PATNO, RECRUIT, IMG, SUBCAT, ENROLL_DATE, ENROLL_STATUS)\n",
    "cat(\"Check ENROLL_STATUS by contingency table. \n",
    "Note:If dup > 1 it indiates duplicated IDs in the file and need to be checked.\\n\")\n",
    "temp %>% group_by(PATNO) %>% mutate(dup = n()) %>% with(table(dup, ENROLL_STATUS, useNA = \"always\"))\n",
    "cat(\"\\nContingency table for cohorts and image results. RECRUIT=PD has those with SWEDD image. Most people in GEN has image but not those in REG\")\n",
    "temp %>% with(table(RECRUIT, IMG, useNA = \"always\"))\n",
    "cat(\"\\nContingency table for RECRUIT cohort and Subcategories. RECRUIT=PRODROMA has HYP and RBD. RECRUIT=GEN/REG have genetics information\n",
    "Sub-category is blank for PD/HC/SWEDD\")\n",
    "temp %>% with(table(RECRUIT, SUBCAT, useNA = \"always\"))"
   ]
  },
  {
   "cell_type": "code",
   "execution_count": 7,
   "metadata": {
    "scrolled": false
   },
   "outputs": [
    {
     "name": "stdout",
     "output_type": "stream",
     "text": [
      "Obatin the initial diagnosis, and the latest diagnosis from 'Primary_Diagnosis.csv'.\n",
      "Further pull the initial and the last DX from 'Prodromal_Diagnostic_Questionnaire.csv'.\n",
      "And 'Genetic_and_Registry_Diagnostic_Questionnaire.csv'\n",
      "\n",
      "Contingency table for DX_LAST x RECRUIT cohort. The file only covers primary PPMI cohorts (PD/HC/SWEDD)\n",
      "NOTE: Most SWEDD is given the diagnosis of 'iPD'."
     ]
    },
    {
     "data": {
      "text/plain": [
       "             RECRUIT\n",
       "DX_LAST       GENPD GENUN  HC  PD PRODROMA REGPD REGUN SWEDD <NA>\n",
       "  CBD             0     0   1   1        0     0     0     0    0\n",
       "  DLB             0     0   0   3        2     1     0     0    0\n",
       "  DrugPKS         0     1   0   0        0     0     1     0    0\n",
       "  ET              1    10   1   2        1     0     2     2    0\n",
       "  Hemi_PKS        0     1   0   0        0     0     0     0    0\n",
       "  MSA             0     0   0   5        2     0     0     0    0\n",
       "  NoDisease       2   312 223   1       56     0   242     1    0\n",
       "  OtherD          0     2   6   0        5     0     8     6    0\n",
       "  PrdrM           0    21   0   0        9     0     5     0    0\n",
       "  PrdrNM          0     4   0   0      100     0     1     0    0\n",
       "  Psychogenic     1     0   0   1        0     0     0     1    0\n",
       "  iPD           254    11   3 477       13   205     3    54    0\n",
       "  <NA>           13     5   7  16       28     7     7     0    0"
      ]
     },
     "metadata": {},
     "output_type": "display_data"
    },
    {
     "name": "stdout",
     "output_type": "stream",
     "text": [
      "EVENT_ID that the participant's initial diagnosis was provided.  if not BL or SC, exclude from the cohort"
     ]
    },
    {
     "data": {
      "text/plain": [
       "EVENT_INIT\n",
       "  BL   SC  U01 <NA> \n",
       " 465 1606    1    0 "
      ]
     },
     "metadata": {},
     "output_type": "display_data"
    },
    {
     "name": "stdout",
     "output_type": "stream",
     "text": [
      "Dupliated PATNO. If exists, it will be shown below. "
     ]
    },
    {
     "data": {
      "text/html": [
       "<table>\n",
       "<thead><tr><th scope=col>PATNO</th><th scope=col>EVENT_LAST</th><th scope=col>DATE_LASTDX</th><th scope=col>DX_LAST</th><th scope=col>EVENT_INIT</th><th scope=col>DATE_INITDX</th><th scope=col>DX_INIT</th><th scope=col>DAYS_DXDIFF</th></tr></thead>\n",
       "<tbody>\n",
       "</tbody>\n",
       "</table>\n"
      ],
      "text/latex": [
       "\\begin{tabular}{r|llllllll}\n",
       " PATNO & EVENT\\_LAST & DATE\\_LASTDX & DX\\_LAST & EVENT\\_INIT & DATE\\_INITDX & DX\\_INIT & DAYS\\_DXDIFF\\\\\n",
       "\\hline\n",
       "\\end{tabular}\n"
      ],
      "text/markdown": [
       "\n",
       "PATNO | EVENT_LAST | DATE_LASTDX | DX_LAST | EVENT_INIT | DATE_INITDX | DX_INIT | DAYS_DXDIFF | \n",
       "||\n",
       "\n",
       "\n"
      ],
      "text/plain": [
       "     PATNO EVENT_LAST DATE_LASTDX DX_LAST EVENT_INIT DATE_INITDX DX_INIT DAYS_DXDIFF"
      ]
     },
     "metadata": {},
     "output_type": "display_data"
    }
   ],
   "source": [
    "cat(\"Obatin the initial diagnosis, and the latest diagnosis from 'Primary_Diagnosis.csv'.\n",
    "Further pull the initial and the last DX from 'Prodromal_Diagnostic_Questionnaire.csv'.\n",
    "And 'Genetic_and_Registry_Diagnostic_Questionnaire.csv'\\n\\n\")\n",
    "dxcode=data.frame(\n",
    "    CODE = c(1:18, 23, 24, 97), \n",
    "    DX = c(\"iPD\", \"Alz\", \"FTD_Chr17\", \"CBD\", \"DLB\", \"Dysto_DopaR\", \"ET\", \"Hemi_PKS\", \"ARPD\", \"MNDwPKS\",\n",
    "            \"MSA\", \"DrugPKS\", \"NPH\", \"PSP\", \"Psychogenic\", \"VasPKS\", \"NoDisease\", \"SCA\", \"PrdrNM\", \"PrdrM\",\"OtherD\"))\n",
    "diagTMP1=fread(paste(FOLDER, 'Primary_Diagnosis.csv', sep='/'), \n",
    "            colClasses = c(\"PATNO\"=\"character\")) %>%\n",
    "  filter(!(is.na(PATNO))) %>% \n",
    "  mutate(DXCODE = as.numeric(PRIMDIAG)) %>% \n",
    "  select(PATNO, EVENT_ID, DXCODE) %>% \n",
    "  inner_join(., EDtable, by = c(\"PATNO\", \"EVENT_ID\"))\n",
    "diagTMP2=fread(paste(FOLDER, 'Prodromal_Diagnostic_Questionnaire.csv', sep='/'), \n",
    "            colClasses = c(\"PATNO\"=\"character\")) %>%\n",
    "  filter(!(is.na(PATNO))) %>% \n",
    "  mutate(DXCODE = as.numeric(PRIMDIAG)) %>% \n",
    "  select(PATNO, EVENT_ID, DXCODE) %>% \n",
    "  inner_join(., EDtable, by = c(\"PATNO\", \"EVENT_ID\"))\n",
    "diagTMP3=fread(paste(FOLDER, 'Genetic_and_Registry_Diagnostic_Questionnaire.csv', sep='/'), \n",
    "            colClasses = c(\"PATNO\"=\"character\")) %>%\n",
    "  filter(!(is.na(PATNO))) %>% \n",
    "  mutate(DXCODE = as.numeric(PRIMDIAG)) %>% \n",
    "  select(PATNO, EVENT_ID, DXCODE) %>% \n",
    "  inner_join(., EDtable, by = c(\"PATNO\", \"EVENT_ID\"))\n",
    "diagTMP = bind_rows(diagTMP1, diagTMP2, diagTMP3)\n",
    "diag1 = diagTMP %>% \n",
    "  arrange(desc(DATE)) %>% \n",
    "  distinct(PATNO, .keep_all = T) %>%\n",
    "  left_join(., dxcode, by = c(\"DXCODE\"=\"CODE\")) %>% \n",
    "  rename(DATE_LASTDX = DATE, DX_LAST = DX, EVENT_LAST=EVENT_ID)\n",
    "diag2 = diagTMP %>% \n",
    "  arrange(DATE) %>% \n",
    "  distinct(PATNO, .keep_all = T) %>%\n",
    "  left_join(., dxcode, by = c(\"DXCODE\"=\"CODE\")) %>% \n",
    "  rename(DATE_INITDX = DATE, DX_INIT = DX, EVENT_INIT=EVENT_ID) \n",
    "diag = full_join(diag1, diag2, by = \"PATNO\") %>% select(-starts_with(\"DXCODE\"))\n",
    "cat(\"Contingency table for DX_LAST x RECRUIT cohort. The file only covers primary PPMI cohorts (PD/HC/SWEDD)\n",
    "NOTE: Most SWEDD is given the diagnosis of 'iPD'.\")\n",
    "left_join(temp, diag, by = \"PATNO\") %>% mutate(DX_LAST = as.character(DX_LAST)) %>% with(table(DX_LAST, RECRUIT, useNA = \"always\"))\n",
    "cat(\"EVENT_ID that the participant's initial diagnosis was provided.  if not BL or SC, exclude from the cohort\")\n",
    "diag %>% with(table(EVENT_INIT, useNA = 'always'))\n",
    "diag = diag %>% filter(EVENT_INIT == \"SC\" | EVENT_INIT == \"BL\") %>% mutate(DAYS_DXDIFF = DATE_LASTDX - DATE_INITDX)\n",
    "cat(\"Dupliated PATNO. If exists, it will be shown below. \")\n",
    "diag %>% group_by(PATNO) %>% mutate(dup = n()) %>% filter(dup>1) %>% select(-dup)"
   ]
  },
  {
   "cell_type": "code",
   "execution_count": 9,
   "metadata": {
    "scrolled": false
   },
   "outputs": [
    {
     "name": "stdout",
     "output_type": "stream",
     "text": [
      "\n",
      "Compare the initial diagnosis and the last one. Note this contingency table includes people only had SC visit"
     ]
    },
    {
     "data": {
      "text/plain": [
       "             DX_INIT\n",
       "DX_LAST       DLB  ET Hemi_PKS NoDisease OtherD PrdrM PrdrNM Psychogenic iPD <NA>\n",
       "  CBD           0   0        0         1      0     0      0           0   1    0\n",
       "  DLB           2   0        0         0      0     0      2           0   2    0\n",
       "  DrugPKS       0   0        0         2      0     0      0           0   0    0\n",
       "  ET            0  12        0         4      0     0      0           0   3    0\n",
       "  Hemi_PKS      0   0        1         0      0     0      0           0   0    0\n",
       "  MSA           0   0        0         0      1     0      1           0   5    0\n",
       "  NoDisease     0   2        0       832      1     1      1           0   3    0\n",
       "  OtherD        0   0        0         5     16     0      1           0   5    0\n",
       "  PrdrM         0   0        0        22      0     5      8           0   0    0\n",
       "  PrdrNM        0   0        0         2      0     0    103           0   0    0\n",
       "  Psychogenic   0   0        0         0      0     0      0           1   2    0\n",
       "  iPD           0   0        0         8      4     2      9           1 999    0\n",
       "  <NA>          0   0        0         0      0     0      0           0   0    1"
      ]
     },
     "metadata": {},
     "output_type": "display_data"
    },
    {
     "name": "stdout",
     "output_type": "stream",
     "text": [
      "\n",
      "Compare the initial diagnosis and the last one. Exclude people only had SC visit"
     ]
    },
    {
     "data": {
      "text/plain": [
       "             DX_INIT\n",
       "DX_LAST        ET NoDisease OtherD PrdrM PrdrNM Psychogenic iPD <NA>\n",
       "  CBD           0         1      0     0      0           0   1    0\n",
       "  DLB           0         0      0     0      2           0   2    0\n",
       "  DrugPKS       0         2      0     0      0           0   0    0\n",
       "  ET            3         4      0     0      0           0   3    0\n",
       "  MSA           0         0      1     0      1           0   5    0\n",
       "  NoDisease     2       506      1     1      1           0   3    0\n",
       "  OtherD        0         5      3     0      1           0   5    0\n",
       "  PrdrM         0        22      0     1      8           0   0    0\n",
       "  PrdrNM        0         2      0     0     36           0   0    0\n",
       "  Psychogenic   0         0      0     0      0           0   2    0\n",
       "  iPD           0         8      4     2      9           1 709    0\n",
       "  <NA>          0         0      0     0      0           0   0    0"
      ]
     },
     "metadata": {},
     "output_type": "display_data"
    }
   ],
   "source": [
    "cat(\"\\nCompare the initial diagnosis and the last one. Note this contingency table includes people only had SC visit\")\n",
    "diag %>% mutate_at(vars(starts_with(\"DX\")), as.character) %>% \n",
    "  with(table(DX_LAST, DX_INIT, useNA = \"always\"))\n",
    "cat(\"\\nCompare the initial diagnosis and the last one. Exclude people only had SC visit\")\n",
    "diag %>% mutate_at(vars(starts_with(\"DX\")), as.character) %>% \n",
    "  filter(DAYS_DXDIFF>0) %>% \n",
    "  with(table(DX_LAST, DX_INIT, useNA = \"always\"))"
   ]
  },
  {
   "cell_type": "code",
   "execution_count": 10,
   "metadata": {},
   "outputs": [
    {
     "name": "stdout",
     "output_type": "stream",
     "text": [
      "All people enrolled should have diagnosis. \n",
      " UP : recruitment category and inital diagnosis \n",
      " BOTTOM : the same but with latest diagnosis."
     ]
    },
    {
     "data": {
      "text/plain": [
       "             RECRUIT\n",
       "DX_INIT       GENPD GENUN  HC  PD PRODROMA REGPD REGUN SWEDD <NA>\n",
       "  ET              0     7   1   0        0     0     2     0    0\n",
       "  NoDisease       0   325 166   0        2     1   240     0    0\n",
       "  OtherD          0     2   2   0        2     3     7     0    0\n",
       "  PrdrM           1     2   0   0        1     0     3     0    0\n",
       "  PrdrNM          0     1   0   0       55     0     1     0    0\n",
       "  Psychogenic     1     0   0   0        0     0     0     0    0\n",
       "  iPD           241     7   0 358        0   194     3    55    0\n",
       "  <NA>            1     1   0   0        0     0     0     0    0"
      ]
     },
     "metadata": {},
     "output_type": "display_data"
    },
    {
     "data": {
      "text/plain": [
       "             RECRUIT\n",
       "DX_LAST       GENPD GENUN  HC  PD PRODROMA REGPD REGUN SWEDD <NA>\n",
       "  CBD             0     0   1   1        0     0     0     0    0\n",
       "  DLB             0     0   0   2        2     0     0     0    0\n",
       "  DrugPKS         0     1   0   0        0     0     1     0    0\n",
       "  ET              1     9   1   0        0     0     2     2    0\n",
       "  MSA             0     0   0   4        2     0     0     0    0\n",
       "  NoDisease       2   299 159   0        2     0   236     0    0\n",
       "  OtherD          0     2   5   0        1     0     8     4    0\n",
       "  PrdrM           0    20   0   0        7     0     5     0    0\n",
       "  PrdrNM          0     3   0   0       34     0     1     0    0\n",
       "  Psychogenic     1     0   0   0        0     0     0     0    0\n",
       "  iPD           239    10   3 351       12   198     3    49    0\n",
       "  <NA>            1     1   0   0        0     0     0     0    0"
      ]
     },
     "metadata": {},
     "output_type": "display_data"
    }
   ],
   "source": [
    "temp = left_join(temp, diag, by = \"PATNO\")\n",
    "cat(\"All people enrolled should have diagnosis. \\n UP : recruitment category and inital diagnosis \\n BOTTOM : the same but with latest diagnosis.\")\n",
    "temp %>% filter(ENROLL_STATUS == \"Enrolled\") %>% mutate(DX_INIT = as.character(DX_INIT)) %>% with(table(DX_INIT, RECRUIT, useNA = \"always\"))\n",
    "temp %>% filter(ENROLL_STATUS == \"Enrolled\") %>% mutate(DX_LAST = as.character(DX_LAST)) %>% with(table(DX_LAST, RECRUIT, useNA = \"always\"))"
   ]
  },
  {
   "cell_type": "code",
   "execution_count": 11,
   "metadata": {
    "scrolled": false
   },
   "outputs": [
    {
     "name": "stdout",
     "output_type": "stream",
     "text": [
      "Create new indicator. Enrollment status/Latest Diagnosis/Image. Recruitment Category is not included.\n",
      "\n",
      "STATUS of PPMI(PD/HC/SWEDD) cohort"
     ]
    },
    {
     "data": {
      "text/plain": [
       "                           RECRUIT\n",
       "DIAG                         HC  PD SWEDD <NA>\n",
       "  In__CBD_convsn_YsImg_PPMI   1   1     0    0\n",
       "  In__CTR_convsn_YsImg_PPMI   1   0     0    0\n",
       "  In__CTR_stable_YsImg_PPMI 158   0     0    0\n",
       "  In__DFR_convsn_SWEDD_PPMI   0   0     4    0\n",
       "  In__DFR_convsn_YsImg_PPMI   3   0     0    0\n",
       "  In__DFR_stable_YsImg_PPMI   2   0     0    0\n",
       "  In__DLB_convsn_YsImg_PPMI   0   2     0    0\n",
       "  In__EST_convsn_SWEDD_PPMI   0   0     2    0\n",
       "  In__EST_convsn_YsImg_PPMI   1   0     0    0\n",
       "  In__MSA_convsn_YsImg_PPMI   0   4     0    0\n",
       "  In__iPD_convsn_YsImg_PPMI   3   0     0    0\n",
       "  In__iPD_stable_NoImg_PPMI   0   3     2    0\n",
       "  In__iPD_stable_SWEDD_PPMI   0   0    47    0\n",
       "  In__iPD_stable_YsImg_PPMI   0 348     0    0\n",
       "  Out_CTR_convsn_SWEDD_PPMI   0   0     1    0\n",
       "  Out_CTR_stable_SWEDD_PPMI   0   1     0    0\n",
       "  Out_CTR_stable_YsImg_PPMI  64   0     0    0\n",
       "  Out_DFR_convsn_SWEDD_PPMI   0   0     1    0\n",
       "  Out_DFR_stable_SWEDD_PPMI   0   0     1    0\n",
       "  Out_DFR_stable_YsImg_PPMI   1   0     0    0\n",
       "  Out_DLB_stable_NoImg_PPMI   0   1     0    0\n",
       "  Out_EST_stable_NoImg_PPMI   0   1     0    0\n",
       "  Out_EST_stable_YsImg_PPMI   0   1     0    0\n",
       "  Out_MSA_convsn_YsImg_PPMI   0   1     0    0\n",
       "  Out_PSY_convsn_SWEDD_PPMI   0   0     1    0\n",
       "  Out_PSY_stable_NoImg_PPMI   0   1     0    0\n",
       "  Out_iPD_stable_NoImg_PPMI   0  17     0    0\n",
       "  Out_iPD_stable_SWEDD_PPMI   0  16     5    0\n",
       "  Out_iPD_stable_YsImg_PPMI   0  93     0    0\n",
       "  <NA>                        0   0     0    0"
      ]
     },
     "metadata": {},
     "output_type": "display_data"
    },
    {
     "name": "stdout",
     "output_type": "stream",
     "text": [
      "\n",
      "STATUS of Other cohorts"
     ]
    },
    {
     "data": {
      "text/plain": [
       "                                RECRUIT\n",
       "DIAG                             GENPD GENUN PRODROMA REGPD REGUN <NA>\n",
       "  In__CTR_convsn_YsImg_GBA+          0     1        0     0     0    0\n",
       "  In__CTR_convsn_YsImg_LRRK2+        2     2        0     0     0    0\n",
       "  In__CTR_convsn_YsImg_RBD           0     0        1     0     0    0\n",
       "  In__CTR_stable_NoImg_GBA+          0     5        0     0    89    0\n",
       "  In__CTR_stable_NoImg_GBA-          0     0        0     0     1    0\n",
       "  In__CTR_stable_NoImg_LRRK2+        0     7        0     0   133    0\n",
       "  In__CTR_stable_NoImg_LRRK2-        0     1        0     0    10    0\n",
       "  In__CTR_stable_NoImg_SNCA+         0     0        0     0     3    0\n",
       "  In__CTR_stable_YsImg_GBA+          0   127        0     0     0    0\n",
       "  In__CTR_stable_YsImg_HYP           0     0        1     0     0    0\n",
       "  In__CTR_stable_YsImg_LRRK2+        0   150        0     0     0    0\n",
       "  In__CTR_stable_YsImg_SNCA+         0     6        0     0     0    0\n",
       "  In__DFR_convsn_NoImg_LRRK2+        0     0        0     0     1    0\n",
       "  In__DFR_convsn_YsImg_LRRK2+        0     1        0     0     0    0\n",
       "  In__DFR_convsn_YsImg_RBD           0     0        1     0     0    0\n",
       "  In__DFR_stable_NoImg_GBA+          0     0        0     0     5    0\n",
       "  In__DFR_stable_NoImg_LRRK2+        0     0        0     0     1    0\n",
       "  In__DFR_stable_NoImg_SNCA+         0     0        0     0     1    0\n",
       "  In__DFR_stable_YsImg_LRRK2+        0     1        0     0     0    0\n",
       "  In__DLB_convsn_YsImg_RBD           0     0        2     0     0    0\n",
       "  In__DRG_convsn_NoImg_LRRK2+        0     0        0     0     1    0\n",
       "  In__DRG_convsn_YsImg_LRRK2+        0     1        0     0     0    0\n",
       "  In__EST_convsn_YsImg_GBA+          1     1        0     0     0    0\n",
       "  In__EST_convsn_YsImg_LRRK2+        0     2        0     0     0    0\n",
       "  In__EST_stable_NoImg_GBA+          0     0        0     0     2    0\n",
       "  In__EST_stable_YsImg_GBA+          0     4        0     0     0    0\n",
       "  In__EST_stable_YsImg_LRRK2+        0     2        0     0     0    0\n",
       "  In__MSA_convsn_YsImg_RBD           0     0        2     0     0    0\n",
       "  In__PRD_convsn_NoImg_LRRK2+        0     0        0     0     1    0\n",
       "  In__PRD_convsn_YsImg_HYP           0     0        1     0     0    0\n",
       "  In__PRD_convsn_YsImg_LRRK2+        0    21        0     0     1    0\n",
       "  In__PRD_convsn_YsImg_RBD           0     0        6     0     0    0\n",
       "  In__PRD_stable_NoImg_GBA+          0     0        0     0     3    0\n",
       "  In__PRD_stable_NoImg_LRRK2+        0     1        0     0     1    0\n",
       "  In__PRD_stable_YsImg_GBA+          0     1        0     0     0    0\n",
       "  In__PRD_stable_YsImg_HYP           0     0       15     0     0    0\n",
       "  In__PRD_stable_YsImg_RBD           0     0       19     0     0    0\n",
       "  In__PSY_convsn_YsImg_GBA+          1     0        0     0     0    0\n",
       "  In__iPD_convsn_NoImg_LRRK2+        0     0        0     4     0    0\n",
       "  In__iPD_convsn_YsImg_GBA+          1     0        0     0     0    0\n",
       "  In__iPD_convsn_YsImg_HYP           0     0        6     0     0    0\n",
       "  In__iPD_convsn_YsImg_LRRK2+        0     4        0     0     0    0\n",
       "  In__iPD_convsn_YsImg_RBD           0     0        6     0     0    0\n",
       "  In__iPD_stable_NoImg_GBA+         12     0        0    48     1    0\n",
       "  In__iPD_stable_NoImg_LRRK2+       20     0        0   139     2    0\n",
       "  In__iPD_stable_NoImg_SNCA+         6     0        0     3     0    0\n",
       "  In__iPD_stable_YsImg_GBA+         59     1        0     0     0    0\n",
       "  In__iPD_stable_YsImg_LRRK2+      125     5        0     4     0    0\n",
       "  In__iPD_stable_YsImg_SNCA+        16     0        0     0     0    0\n",
       "  Out_CTR_stable_NoImg_GBA+          0     1        0     0     2    0\n",
       "  Out_CTR_stable_NoImg_GBA-          0     0        0     0     1    0\n",
       "  Out_CTR_stable_NoImg_HYP           0     0        4     0     0    0\n",
       "  Out_CTR_stable_NoImg_LRRK2+        0     3        0     0     3    0\n",
       "  Out_CTR_stable_YsImg_GBA+          0     2        0     0     0    0\n",
       "  Out_CTR_stable_YsImg_HYP           0     0       49     0     0    0\n",
       "  Out_CTR_stable_YsImg_LRRK2+        0     5        0     0     0    0\n",
       "  Out_CTR_stable_YsImg_LRRK2-        0     1        0     0     0    0\n",
       "  Out_CTR_stable_YsImg_RBD           0     0        1     0     0    0\n",
       "  Out_DFR_stable_YsImg_              0     0        1     0     0    0\n",
       "  Out_DFR_stable_YsImg_HYP           0     0        2     0     0    0\n",
       "  Out_DFR_stable_YsImg_RBD           0     0        1     0     0    0\n",
       "  Out_DLB_stable_NoImg_GBA+          0     0        0     1     0    0\n",
       "  Out_EST_stable_NoImg_GBA+          0     1        0     0     0    0\n",
       "  Out_EST_stable_YsImg_HYP           0     0        1     0     0    0\n",
       "  Out_Hemi_PKS_stable_NoImg_GBA+     0     1        0     0     0    0\n",
       "  Out_PRD_convsn_YsImg_GBA+          0     1        0     0     0    0\n",
       "  Out_PRD_convsn_YsImg_HYP           0     0        1     0     0    0\n",
       "  Out_PRD_stable_NoImg_HYP           0     0        1     0     0    0\n",
       "  Out_PRD_stable_YsImg_GBA+          0     1        0     0     0    0\n",
       "  Out_PRD_stable_YsImg_HYP           0     0       30     0     0    0\n",
       "  Out_PRD_stable_YsImg_RBD           0     0       36     0     0    0\n",
       "  Out_iPD_stable_NoImg_GBA+          6     0        0     2     0    0\n",
       "  Out_iPD_stable_NoImg_LRRK2+        4     0        0     5     0    0\n",
       "  Out_iPD_stable_NoImg_SNCA+         1     0        0     0     0    0\n",
       "  Out_iPD_stable_YsImg_GBA+          1     1        0     0     0    0\n",
       "  Out_iPD_stable_YsImg_HYP           0     0        1     0     0    0\n",
       "  Out_iPD_stable_YsImg_LRRK2+        3     0        0     0     0    0\n",
       "  <NA>                               0     0        0     0     0    0"
      ]
     },
     "metadata": {},
     "output_type": "display_data"
    }
   ],
   "source": [
    "cat(\"Create new indicator. Enrollment status/Latest Diagnosis/Image. Recruitment Category is not included.\\n\")\n",
    "temp1= temp %>% filter(!is.na(DX_INIT)) %>%\n",
    "  mutate(DIAG = paste(\n",
    "  ifelse(ENROLL_STATUS==\"Enrolled\", \"In_\", \"Out\"), # ENROLL STATUAS\n",
    "  case_when( # LATEST DIAGNOSIS\n",
    "    is.na(DX_LAST) ~ \"XXX\",\n",
    "    DX_LAST == \"iPD\" ~ \"iPD\",\n",
    "    DX_LAST == \"NoDisease\" ~ \"CTR\",\n",
    "    DX_LAST == \"PrdrM\" | DX_LAST == \"PrdrNM\" ~ \"PRD\",\n",
    "    DX_LAST == \"OtherD\" ~ \"DFR\",\n",
    "    DX_LAST == \"ET\" ~ \"EST\",\n",
    "    DX_LAST == \"DrugPKS\" ~ \"DRG\",\n",
    "    DX_LAST == \"Psychogenic\" ~ \"PSY\",\n",
    "    TRUE ~ as.character(DX_LAST)),\n",
    "  ifelse(DX_LAST == DX_INIT, \"stable\", \"convsn\"), # DX stable or conversion.\n",
    "  case_when(\n",
    "    IMG == \"SWEDD\" ~ \"SWEDD\",\n",
    "    IMG == \"no image\" ~ \"NoImg\",\n",
    "    TRUE ~ \"YsImg\"),\n",
    "  ifelse(SUBCAT==\"\" & I(RECRUIT %in% c(\"PD\", \"HC\", \"SWEDD\")) , \"PPMI\", SUBCAT),\n",
    "  sep = \"_\"\n",
    "))\n",
    "cat(\"\\nSTATUS of PPMI(PD/HC/SWEDD) cohort\")\n",
    "temp1 %>% .[grep(\"PPMI\", .$DIAG), ] %>% \n",
    "  with(table(DIAG, RECRUIT, useNA = \"always\"))\n",
    "cat(\"\\nSTATUS of Other cohorts\")\n",
    "temp1 %>% .[-grep(\"PPMI\", .$DIAG), ] %>% \n",
    "  with(table(DIAG, RECRUIT, useNA = \"always\"))"
   ]
  },
  {
   "cell_type": "code",
   "execution_count": 12,
   "metadata": {},
   "outputs": [
    {
     "name": "stdout",
     "output_type": "stream",
     "text": [
      "Add sex, birthday, racial information from 'Screening___Demographics.csv',\n",
      "the date of initial diagnosis from 'PD_Features.csv',\n",
      "Years of education from 'Socio-Economics.csv',\n",
      "Family history from 'Family_History__PD_.csv'\n"
     ]
    },
    {
     "data": {
      "text/plain": [
       "    PATNO               FEMALE          BIRTHDT          EUROPEAN         DIAGDATE       YEARSEDUC  FAMILY_HISTORY  \n",
       " Length:2159        Min.   :0.0000   Min.   :-17746   Min.   :0.0000   Min.   : 5479   Min.   : 0   Min.   :0.0000  \n",
       " Class :character   1st Qu.:0.0000   1st Qu.: -9345   1st Qu.:1.0000   1st Qu.:14791   1st Qu.:14   1st Qu.:0.0000  \n",
       " Mode  :character   Median :0.0000   Median : -6789   Median :1.0000   Median :15294   Median :16   Median :0.0000  \n",
       "                    Mean   :0.4605   Mean   : -6342   Mean   :0.9623   Mean   :14964   Mean   :16   Mean   :0.3987  \n",
       "                    3rd Qu.:1.0000   3rd Qu.: -3867   3rd Qu.:1.0000   3rd Qu.:15614   3rd Qu.:18   3rd Qu.:1.0000  \n",
       "                    Max.   :1.0000   Max.   : 10013   Max.   :1.0000   Max.   :17622   Max.   :30   Max.   :1.0000  \n",
       "                    NA's   :5        NA's   :11       NA's   :8        NA's   :1137    NA's   :78   NA's   :120     \n",
       "   RECRUIT              IMG               SUBCAT          ENROLL_DATE        ENROLL_STATUS       EVENT_LAST       \n",
       " Length:2159        Length:2159        Length:2159        Length:2159        Length:2159        Length:2159       \n",
       " Class :character   Class :character   Class :character   Class :character   Class :character   Class :character  \n",
       " Mode  :character   Mode  :character   Mode  :character   Mode  :character   Mode  :character   Mode  :character  \n",
       "                                                                                                                  \n",
       "                                                                                                                  \n",
       "                                                                                                                  \n",
       "                                                                                                                  \n",
       "  DATE_LASTDX         DX_LAST      EVENT_INIT         DATE_INITDX         DX_INIT      DAYS_DXDIFF         DIAG          \n",
       " Min.   :14761   iPD      :1020   Length:2159        Min.   :14761   iPD      :1017   Min.   :   0.0   Length:2159       \n",
       " 1st Qu.:16832   NoDisease: 836   Class :character   1st Qu.:15492   NoDisease: 872   1st Qu.:   0.0   Class :character  \n",
       " Median :17379   PrdrNM   : 105   Mode  :character   Median :16252   PrdrNM   : 125   Median : 730.0   Mode  :character  \n",
       " Mean   :17099   PrdrM    :  35                      Mean   :16233   OtherD   :  22   Mean   : 866.3                     \n",
       " 3rd Qu.:17652   OtherD   :  27                      3rd Qu.:16953   ET       :  14   3rd Qu.:1522.0                     \n",
       " Max.   :17805   (Other)  :  40                      Max.   :17775   (Other)  :  13   Max.   :3014.0                     \n",
       " NA's   :96      NA's     :  96                      NA's   :96      NA's     :  96   NA's   :96                         "
      ]
     },
     "metadata": {},
     "output_type": "display_data"
    }
   ],
   "source": [
    "cat(\"Add sex, birthday, racial information from 'Screening___Demographics.csv',\n",
    "the date of initial diagnosis from 'PD_Features.csv',\n",
    "Years of education from 'Socio-Economics.csv',\n",
    "Family history from 'Family_History__PD_.csv'\\n\")\n",
    "scr = fread(paste(FOLDER, 'Screening___Demographics.csv', sep='/'), \n",
    "             colClasses = c(\"PATNO\"=\"character\")) %>%\n",
    "  mutate(FEMALE = if_else(GENDER=='0'|GENDER=='1', 1, 0), # 0/1 Child-bearing/unbearing Female. 2 Male\n",
    "         BIRTHDT = as.Date(paste(\"01\",'06', BIRTHDT, sep = \"/\"), format='%d/%m/%Y') %>% as.numeric, # Original only has years\n",
    "         EUROPEAN = if_else(RAWHITE=='1', 1, 0)) %>% \n",
    "  select(PATNO, FEMALE, BIRTHDT, EUROPEAN) %>% \n",
    "  distinct(PATNO, .keep_all = T)\n",
    "features = fread(paste(FOLDER, \"PD_Features.csv\", sep='/'), \n",
    "            colClasses = c(\"PATNO\"=\"character\")) %>%\n",
    "  mutate(DIAGDATE = as.Date(paste(\"01\",PDDXDT, sep = \"/\"), format='%d/%m/%Y') %>% as.numeric) %>% \n",
    "  select(PATNO, DIAGDATE) %>% \n",
    "  distinct(PATNO, .keep_all = T)\n",
    "SES=fread(paste(FOLDER, 'Socio-Economics.csv', sep='/'),\n",
    "          colClasses = c(\"PATNO\"=\"character\")) %>% \n",
    "  mutate(YEARSEDUC = as.numeric(EDUCYRS)) %>% \n",
    "  select(PATNO, YEARSEDUC) %>% \n",
    "  distinct(PATNO, .keep_all = T)\n",
    "FH=fread(paste(FOLDER, 'Family_History__PD_.csv', sep='/'),\n",
    "         colClasses = c(\"PATNO\"=\"character\")) %>%\n",
    "  data.frame %>% \n",
    "  mutate_at(vars(names(.)[grep(\"PD$\", names(.))]), as.numeric) %>% \n",
    "  mutate(FH = rowSums(.[,grep(\"BIODADPD|BIOMOMPD|FULSIBPD\", names(.))], na.rm = T)) %>% \n",
    "  mutate(FAMILY_HISTORY=ifelse(FH>0, 1, 0)) %>% \n",
    "  select(PATNO, FAMILY_HISTORY) %>% \n",
    "  distinct(PATNO, .keep_all = T)\n",
    "temp2 = left_join(scr, features, by =\"PATNO\") %>% left_join(., SES, by =\"PATNO\") %>% \n",
    "  left_join(., FH, by=\"PATNO\") %>% left_join(., temp1, by =\"PATNO\")\n",
    "summary(temp2)"
   ]
  },
  {
   "cell_type": "code",
   "execution_count": 13,
   "metadata": {},
   "outputs": [
    {
     "name": "stdout",
     "output_type": "stream",
     "text": [
      "For those recruited as PD, check the distribution of the time from original DX_DATE to DATE_DXINIT(DX_DATE at cohort entry)\n",
      "The table shows that GENPD and REGPD are relatively long after original diagnosis. "
     ]
    },
    {
     "data": {
      "text/html": [
       "<table>\n",
       "<thead><tr><th scope=col>RECRUIT</th><th scope=col>n</th><th scope=col>mean</th><th scope=col>sd</th><th scope=col>min</th><th scope=col>median</th><th scope=col>max</th></tr></thead>\n",
       "<tbody>\n",
       "\t<tr><td>GENPD    </td><td>258      </td><td>1147.7868</td><td> 784.9005</td><td>0        </td><td>1034.5   </td><td> 3167    </td></tr>\n",
       "\t<tr><td>PD       </td><td>490      </td><td> 168.8569</td><td> 197.6531</td><td>0        </td><td>  92.0   </td><td> 1247    </td></tr>\n",
       "\t<tr><td>REGPD    </td><td>206      </td><td>3404.8488</td><td>2364.5461</td><td>0        </td><td>3502.0   </td><td>10773    </td></tr>\n",
       "\t<tr><td>SWEDD    </td><td> 64      </td><td> 130.7188</td><td> 160.9197</td><td>0        </td><td>  61.0   </td><td>  640    </td></tr>\n",
       "</tbody>\n",
       "</table>\n"
      ],
      "text/latex": [
       "\\begin{tabular}{r|lllllll}\n",
       " RECRUIT & n & mean & sd & min & median & max\\\\\n",
       "\\hline\n",
       "\t GENPD     & 258       & 1147.7868 &  784.9005 & 0         & 1034.5    &  3167    \\\\\n",
       "\t PD        & 490       &  168.8569 &  197.6531 & 0         &   92.0    &  1247    \\\\\n",
       "\t REGPD     & 206       & 3404.8488 & 2364.5461 & 0         & 3502.0    & 10773    \\\\\n",
       "\t SWEDD     &  64       &  130.7188 &  160.9197 & 0         &   61.0    &   640    \\\\\n",
       "\\end{tabular}\n"
      ],
      "text/markdown": [
       "\n",
       "RECRUIT | n | mean | sd | min | median | max | \n",
       "|---|---|---|---|\n",
       "| GENPD     | 258       | 1147.7868 |  784.9005 | 0         | 1034.5    |  3167     | \n",
       "| PD        | 490       |  168.8569 |  197.6531 | 0         |   92.0    |  1247     | \n",
       "| REGPD     | 206       | 3404.8488 | 2364.5461 | 0         | 3502.0    | 10773     | \n",
       "| SWEDD     |  64       |  130.7188 |  160.9197 | 0         |   61.0    |   640     | \n",
       "\n",
       "\n"
      ],
      "text/plain": [
       "  RECRUIT n   mean      sd        min median max  \n",
       "1 GENPD   258 1147.7868  784.9005 0   1034.5  3167\n",
       "2 PD      490  168.8569  197.6531 0     92.0  1247\n",
       "3 REGPD   206 3404.8488 2364.5461 0   3502.0 10773\n",
       "4 SWEDD    64  130.7188  160.9197 0     61.0   640"
      ]
     },
     "metadata": {},
     "output_type": "display_data"
    }
   ],
   "source": [
    "cat(\"For those recruited as PD, check the distribution of the time from original DX_DATE to DATE_DXINIT(DX_DATE at cohort entry)\n",
    "The table shows that GENPD and REGPD are relatively long after original diagnosis. \")\n",
    "temp2 %>% filter(RECRUIT %in% c(\"GENPD\", \"REGPD\", \"PD\", \"SWEDD\")) %>%\n",
    "  group_by(RECRUIT) %>% \n",
    "  mutate(DIFF = DATE_INITDX - DIAGDATE) %>%\n",
    "  summarize(n = n(), \n",
    "            mean = mean(DIFF, na.rm = T), sd = sd(DIFF, na.rm = T),\n",
    "            min = min(DIFF, na.rm = T), median = median(DIFF, na.rm = T), max = max(DIFF, na.rm = T))"
   ]
  },
  {
   "cell_type": "code",
   "execution_count": 16,
   "metadata": {
    "scrolled": false
   },
   "outputs": [
    {
     "name": "stdout",
     "output_type": "stream",
     "text": [
      "Among 2159 people, 6 in non-PD category has DIAGDATE. They will be excluded from the analysis.\n",
      "Check if there are PD patients diagnosed after SC. Peple with TRUE and <NA> of the following table will be excluded"
     ]
    },
    {
     "data": {
      "text/plain": [
       "DIAGNOSED_AFTER_SCREEN\n",
       "FALSE  <NA> \n",
       " 1016     2 "
      ]
     },
     "metadata": {},
     "output_type": "display_data"
    },
    {
     "name": "stdout",
     "output_type": "stream",
     "text": [
      "\n",
      "And we will only keep  people with diagnosis (such as PD, HC, etc.) and Sex known: Excluded 94 \n",
      "So the final summary of the cohorts are;"
     ]
    },
    {
     "data": {
      "text/plain": [
       "    PATNO             RECRUIT             EUROPEAN         FEMALE          BIRTHDT         YEARSEDUC \n",
       " Length:2057        Length:2057        Min.   :0.000   Min.   :0.0000   Min.   :-17746   Min.   : 0  \n",
       " Class :character   Class :character   1st Qu.:1.000   1st Qu.:0.0000   1st Qu.: -9345   1st Qu.:14  \n",
       " Mode  :character   Mode  :character   Median :1.000   Median :0.0000   Median : -6789   Median :16  \n",
       "                                       Mean   :0.966   Mean   :0.4623   Mean   : -6276   Mean   :16  \n",
       "                                       3rd Qu.:1.000   3rd Qu.:1.0000   3rd Qu.: -3501   3rd Qu.:18  \n",
       "                                       Max.   :1.000   Max.   :1.0000   Max.   : 10013   Max.   :30  \n",
       "                                                                                                     \n",
       " FAMILY_HISTORY      DIAGDATE          DX_INIT      DATE_INITDX     DATE_LASTDX        DIAG          \n",
       " Min.   :0.0000   Min.   : 5479   iPD      :1015   Min.   :14761   Min.   :14761   Length:2057       \n",
       " 1st Qu.:0.0000   1st Qu.:14791   NoDisease: 870   1st Qu.:15492   1st Qu.:16832   Class :character  \n",
       " Median :0.0000   Median :15279   PrdrNM   : 125   Median :16252   Median :17379   Mode  :character  \n",
       " Mean   :0.3983   Mean   :14956   OtherD   :  22   Mean   :16231   Mean   :17099                     \n",
       " 3rd Qu.:1.0000   3rd Qu.:15614   ET       :  13   3rd Qu.:16922   3rd Qu.:17652                     \n",
       " Max.   :1.0000   Max.   :17622   PrdrM    :   8   Max.   :17775   Max.   :17805                     \n",
       " NA's   :36       NA's   :1041    (Other)  :   4                                                     "
      ]
     },
     "metadata": {},
     "output_type": "display_data"
    }
   ],
   "source": [
    "temp2 %>% filter(! (RECRUIT %in% c(\"GENPD\", \"REGPD\", \"PD\", \"SWEDD\"))) %>% filter(!is.na(DIAGDATE)) %>% nrow %>%\n",
    "  cat(\"Among\", temp2 %>% nrow, \"people,\",.,\"in non-PD category has DIAGDATE. They will be excluded from the analysis.\\n\")\n",
    "cat(\"Check if there are PD patients diagnosed after SC. Peple with TRUE and <NA> of the following table will be excluded\")\n",
    "temp2 %>% filter(RECRUIT %in% c(\"GENPD\", \"REGPD\", \"PD\", \"SWEDD\")) %>%\n",
    "  mutate(DIAGNOSED_AFTER_SCREEN = I(DATE_INITDX - DIAGDATE) < 0 ) %>%\n",
    "  with(table(DIAGNOSED_AFTER_SCREEN, useNA = \"always\"))\n",
    "temp3 = temp2 %>% mutate(FILTER = case_when(\n",
    "    RECRUIT %in% c(\"GENPD\", \"REGPD\", \"PD\", \"SWEDD\") & is.na(DIAGDATE) ~ TRUE, # DIAGDATE==NA in PD category\n",
    "    RECRUIT %in% c(\"GENPD\", \"REGPD\", \"PD\", \"SWEDD\") ~ I(DATE_INITDX - DIAGDATE) < 0, # DIAGDATE > DATE_INITDX\n",
    "    TRUE~!is.na(DIAGDATE))) %>% # Non-PD category with DIAGDATE!=NA\n",
    "  filter(!FILTER)\n",
    "temp3 %>% filter(is.na(DX_LAST) | is.na(FEMALE)) %>% nrow %>%\n",
    "  cat(\"\\nAnd we will only keep  people with diagnosis (such as PD, HC, etc.) and Sex known: Excluded\", ., \n",
    "      \"\\nSo the final summary of the cohorts are;\")\n",
    "temp4 = temp3 %>% filter(!is.na(DX_LAST) & !is.na(FEMALE)) %>% \n",
    "  select(PATNO, RECRUIT, EUROPEAN, FEMALE, BIRTHDT, YEARSEDUC, FAMILY_HISTORY, DIAGDATE, DX_INIT, DATE_INITDX, DATE_LASTDX, DIAG)\n",
    "temp4 %>% summary\n",
    "write.csv(temp4, paste(OUTPUT, \"DEMOG_DIAG.csv\", sep=\"/\"), row.names=F)"
   ]
  }
 ],
 "metadata": {
  "kernelspec": {
   "display_name": "R",
   "language": "R",
   "name": "ir"
  },
  "language_info": {
   "codemirror_mode": "r",
   "file_extension": ".r",
   "mimetype": "text/x-r-source",
   "name": "R",
   "pygments_lexer": "r",
   "version": "3.5.0"
  }
 },
 "nbformat": 4,
 "nbformat_minor": 2
}
